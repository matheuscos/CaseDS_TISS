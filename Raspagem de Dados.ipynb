{
 "cells": [
  {
   "cell_type": "markdown",
   "id": "325854cd",
   "metadata": {},
   "source": [
    "# Script de Raspagem e Download dos dados"
   ]
  },
  {
   "cell_type": "markdown",
   "id": "a12f88cb",
   "metadata": {},
   "source": [
    "Matheus Costa e Silva - 24 de outubro de 2023"
   ]
  },
  {
   "cell_type": "markdown",
   "id": "99a1263a",
   "metadata": {},
   "source": [
    "## Preparação de ambiente"
   ]
  },
  {
   "cell_type": "code",
   "execution_count": null,
   "id": "afd55b48",
   "metadata": {},
   "outputs": [],
   "source": [
    "import os\n",
    "import sys\n",
    "import re\n",
    "import zipfile\n",
    "import tempfile\n",
    "import io\n",
    "import requests\n",
    "from functools import reduce\n",
    "from pyspark.sql import DataFrame, SparkSession\n",
    "from pyspark.sql.types import StructType,StructField, StringType\n",
    "from bs4 import BeautifulSoup\n",
    "\n",
    "#Create SparkSession\n",
    "spark = SparkSession.builder.appName('Daiichi').getOrCreate()\n"
   ]
  },
  {
   "cell_type": "markdown",
   "id": "68ff4764",
   "metadata": {},
   "source": [
    "### Funções Auxiliares"
   ]
  },
  {
   "cell_type": "code",
   "execution_count": null,
   "id": "af32c67b",
   "metadata": {},
   "outputs": [],
   "source": [
    "\n",
    "\n",
    "def baixar_descompactar_e_salvar_csv_com_pyspark(zip_file_url, zip_file_name, csv_file_name,\n",
    "                                                 endereco, area,UF, ANO):\n",
    "    with tempfile.TemporaryDirectory() as temp_dir:\"\"\n",
    "        # Baixar o arquivo ZIP\n",
    "        response = requests.get(zip_file_url)\n",
    "        with open(f\"{temp_dir}/{zip_file_name}\", \"wb\") as zip_file:\n",
    "            zip_file.write(response.content)\n",
    "\n",
    "        # Descompactar o arquivo ZIP\n",
    "        with zipfile.ZipFile(f\"{temp_dir}/{zip_file_name}\", \"r\") as zip_ref:\n",
    "            zip_ref.extractall(temp_dir)\n",
    "\n",
    "        # Inicializar o SparkSession\n",
    "        spark = SparkSession.builder.appName(\"Leitura_CSV_Com_PySpark\").getOrCreate()\n",
    "\n",
    "        # Ler o CSV com o PySpark\n",
    "        csv_file_path = f\"{temp_dir}/{csv_file_name}\"\n",
    "        df = spark.read.options(delimiter=';').csv(csv_file_path, header=True, inferSchema=True)\n",
    "\n",
    "        # Realizar operações com o DataFrame (opcional)\n",
    "        #df.show()\n",
    "        df.write.format(\"csv\").option(\"header\",True).mode('append').save(str(UF)+str(ANO)+str(area))\n",
    "\n",
    "        # Encerrar a sessão do Spark\n",
    "        #spark.stop()\n",
    "\n",
    "\n",
    "\n",
    "def processar_salvar_estado_base(endereco, area,UF, ANO):\n",
    "    \n",
    "    url = str(endereco)+\"/\"+str(ANO)+\"/\"+str(UF)\n",
    "    response = requests.get(url)\n",
    "    soup = BeautifulSoup(response.text, 'html.parser')\n",
    "    links = [a['href'] for a in soup.find_all('a', href=True)]\n",
    "\n",
    "\n",
    "    r = re.compile(\".*\"+area)\n",
    "    aux= list(filter(r.match, links))\n",
    "    r2 = re.compile(\".*12\")\n",
    "    newlist=list(filter(r2.match,aux))\n",
    "    print(newlist)\n",
    "    for zip_url in newlist:\n",
    "        if zip_url.endswith(area+\".zip\"):\n",
    "            zip_file_name = zip_url\n",
    "            csv_file_name = zip_file_name.replace(\".zip\", \".csv\")\n",
    "            print(url+\"/\"+zip_url)\n",
    "            print(zip_file_name)\n",
    "            print(csv_file_name)\n",
    "        #print(csv_file_name)\n",
    "            baixar_descompactar_e_salvar_csv_com_pyspark(url+\"/\"+zip_url, zip_file_name, csv_file_name,\n",
    "                                                 endereco, area,UF, ANO)\n",
    "            \n",
    "    \n",
    "def analise_anual_full(URL,ano):\n",
    "    url = str(URL)+\"/\"+str(ano)\n",
    "    response = requests.get(url)\n",
    "    soup = BeautifulSoup(response.text, 'html.parser')\n",
    "    links = [a['href'] for a in soup.find_all('a', href=True)]\n",
    "    areas = ['CONS','DET']\n",
    "    for area in areas:\n",
    "        for uf in links:\n",
    "            processar_salvar_estado_base(URL,area,uf,str(ano))\n",
    "\n",
    "def amb_full(URL):\n",
    "    url = str(URL)\n",
    "    response = requests.get(url)\n",
    "    soup = BeautifulSoup(response.text, 'html.parser')\n",
    "    links = [a['href'] for a in soup.find_all('a', href=True)]\n",
    "    r = re.compile(\".*202\")\n",
    "    aux= list(filter(r.match, links))\n",
    "    for ano in aux:\n",
    "        print(URL)\n",
    "        print(ano)\n",
    "        analise_anual_full(URL,ano)\n",
    "            "
   ]
  },
  {
   "cell_type": "markdown",
   "id": "4e26acec",
   "metadata": {},
   "source": [
    "## Download de toda base de dados TISS"
   ]
  },
  {
   "cell_type": "markdown",
   "id": "b23aa377",
   "metadata": {},
   "source": [
    "### Para fins de otimização de computação e armazenamento, optou-se por baixar somente a competência de dezembro dos anos de 2020, 2021 e 2022 para os seguintes estados: Goiás, Bahia e Minas Gerais"
   ]
  },
  {
   "cell_type": "code",
   "execution_count": null,
   "id": "3483e78f",
   "metadata": {},
   "outputs": [],
   "source": [
    "amb_full(\"https://dadosabertos.ans.gov.br/FTP/PDA/TISS/AMBULATORIAL\")"
   ]
  },
  {
   "cell_type": "markdown",
   "id": "7f3583f3",
   "metadata": {},
   "source": [
    "## Download de toda a base de dados de planos de saúde cadastrados"
   ]
  },
  {
   "cell_type": "code",
   "execution_count": null,
   "id": "81fd3db4",
   "metadata": {},
   "outputs": [],
   "source": [
    "baixar_descompactar_e_salvar_csv_com_pyspark(\"https://dadosabertos.ans.gov.br/FTP/PDA/TISS/DADOS_DE_PLANOS/PLANOS.zip\",\n",
    "                                             \"PLANOS.zip\", \"PLANOS.csv\",\n",
    "                                                 \"endereco\", \"TOTAL\",\"BR\", \"FULL\")\n",
    "\n",
    "df = spark.read.options(delimiter=',').csv(\"BRFULLTOTAL\", header=True, inferSchema=True)"
   ]
  },
  {
   "cell_type": "markdown",
   "id": "175f7558",
   "metadata": {},
   "source": [
    "## Download da base de dados de beneficiários cadastrados nos meses e anos discutidos acima para as mesmas UF's"
   ]
  },
  {
   "cell_type": "code",
   "execution_count": 77,
   "id": "e28fc6cd",
   "metadata": {},
   "outputs": [
    {
     "name": "stdout",
     "output_type": "stream",
     "text": [
      "https://dadosabertos.ans.gov.br/FTP/PDA/informacoes_consolidadas_de_beneficiarios/202012\n",
      "['ben202012_GO.zip']\n",
      "ben202012_GO.zip\n",
      "ben202012_GO.csv\n",
      "https://dadosabertos.ans.gov.br/FTP/PDA/informacoes_consolidadas_de_beneficiarios/202012/ben202012_GO.zip\n"
     ]
    },
    {
     "name": "stderr",
     "output_type": "stream",
     "text": [
      "23/10/24 12:50:16 WARN SparkSession: Using an existing Spark session; only runtime SQL configurations will take effect.\n",
      "                                                                                \r"
     ]
    },
    {
     "name": "stdout",
     "output_type": "stream",
     "text": [
      "https://dadosabertos.ans.gov.br/FTP/PDA/informacoes_consolidadas_de_beneficiarios/202012\n",
      "['ben202012_MG.zip']\n",
      "ben202012_MG.zip\n",
      "ben202012_MG.csv\n",
      "https://dadosabertos.ans.gov.br/FTP/PDA/informacoes_consolidadas_de_beneficiarios/202012/ben202012_MG.zip\n"
     ]
    },
    {
     "name": "stderr",
     "output_type": "stream",
     "text": [
      "                                                                                \r"
     ]
    },
    {
     "name": "stdout",
     "output_type": "stream",
     "text": [
      "https://dadosabertos.ans.gov.br/FTP/PDA/informacoes_consolidadas_de_beneficiarios/202012\n",
      "['ben202012_BA.zip']\n",
      "ben202012_BA.zip\n",
      "ben202012_BA.csv\n",
      "https://dadosabertos.ans.gov.br/FTP/PDA/informacoes_consolidadas_de_beneficiarios/202012/ben202012_BA.zip\n"
     ]
    },
    {
     "name": "stderr",
     "output_type": "stream",
     "text": [
      "                                                                                \r"
     ]
    },
    {
     "name": "stdout",
     "output_type": "stream",
     "text": [
      "https://dadosabertos.ans.gov.br/FTP/PDA/informacoes_consolidadas_de_beneficiarios/202112\n",
      "['ben202112_GO.zip']\n",
      "ben202112_GO.zip\n",
      "ben202112_GO.csv\n",
      "https://dadosabertos.ans.gov.br/FTP/PDA/informacoes_consolidadas_de_beneficiarios/202112/ben202112_GO.zip\n"
     ]
    },
    {
     "name": "stderr",
     "output_type": "stream",
     "text": [
      "\r",
      "[Stage 135:===================================>                     (5 + 3) / 8]\r",
      "\r",
      "                                                                                \r"
     ]
    },
    {
     "name": "stdout",
     "output_type": "stream",
     "text": [
      "https://dadosabertos.ans.gov.br/FTP/PDA/informacoes_consolidadas_de_beneficiarios/202112\n",
      "['ben202112_MG.zip']\n",
      "ben202112_MG.zip\n",
      "ben202112_MG.csv\n",
      "https://dadosabertos.ans.gov.br/FTP/PDA/informacoes_consolidadas_de_beneficiarios/202112/ben202112_MG.zip\n"
     ]
    },
    {
     "name": "stderr",
     "output_type": "stream",
     "text": [
      "                                                                                \r"
     ]
    },
    {
     "name": "stdout",
     "output_type": "stream",
     "text": [
      "https://dadosabertos.ans.gov.br/FTP/PDA/informacoes_consolidadas_de_beneficiarios/202112\n",
      "['ben202112_BA.zip']\n",
      "ben202112_BA.zip\n",
      "ben202112_BA.csv\n",
      "https://dadosabertos.ans.gov.br/FTP/PDA/informacoes_consolidadas_de_beneficiarios/202112/ben202112_BA.zip\n"
     ]
    },
    {
     "name": "stderr",
     "output_type": "stream",
     "text": [
      "                                                                                \r"
     ]
    },
    {
     "name": "stdout",
     "output_type": "stream",
     "text": [
      "https://dadosabertos.ans.gov.br/FTP/PDA/informacoes_consolidadas_de_beneficiarios/202212\n",
      "['ben202212_GO.zip']\n",
      "ben202212_GO.zip\n",
      "ben202212_GO.csv\n",
      "https://dadosabertos.ans.gov.br/FTP/PDA/informacoes_consolidadas_de_beneficiarios/202212/ben202212_GO.zip\n"
     ]
    },
    {
     "name": "stderr",
     "output_type": "stream",
     "text": [
      "\r",
      "[Stage 144:==============>                                          (2 + 6) / 8]\r",
      "\r",
      "                                                                                \r"
     ]
    },
    {
     "name": "stdout",
     "output_type": "stream",
     "text": [
      "https://dadosabertos.ans.gov.br/FTP/PDA/informacoes_consolidadas_de_beneficiarios/202212\n",
      "['ben202212_MG.zip']\n",
      "ben202212_MG.zip\n",
      "ben202212_MG.csv\n",
      "https://dadosabertos.ans.gov.br/FTP/PDA/informacoes_consolidadas_de_beneficiarios/202212/ben202212_MG.zip\n"
     ]
    },
    {
     "name": "stderr",
     "output_type": "stream",
     "text": [
      "                                                                                \r"
     ]
    },
    {
     "name": "stdout",
     "output_type": "stream",
     "text": [
      "https://dadosabertos.ans.gov.br/FTP/PDA/informacoes_consolidadas_de_beneficiarios/202212\n",
      "['ben202212_BA.zip']\n",
      "ben202212_BA.zip\n",
      "ben202212_BA.csv\n",
      "https://dadosabertos.ans.gov.br/FTP/PDA/informacoes_consolidadas_de_beneficiarios/202212/ben202212_BA.zip\n"
     ]
    },
    {
     "name": "stderr",
     "output_type": "stream",
     "text": [
      "                                                                                \r"
     ]
    }
   ],
   "source": [
    "from pyspark.sql.functions import input_file_name\n",
    "import os\n",
    "\n",
    "# Inicie uma sessão do Spark\n",
    "spark = SparkSession.builder.appName(\"Leitura de CSV\").getOrCreate()\n",
    "\n",
    "# Diretório raiz onde estão as pastas das UF's\n",
    "URL = \"https://dadosabertos.ans.gov.br/FTP/PDA/informacoes_consolidadas_de_beneficiarios\"\n",
    "\n",
    "# Anos que você deseja processar\n",
    "anos = [\"202012\",\"202112\",\"202212\"]\n",
    "\n",
    "# Lista para armazenar os DataFrames de todas as UF's\n",
    "dfs_ufs = []\n",
    "\n",
    "# Loop através das UF's\n",
    "#aux = os.listdir(diretorio_raiz)\n",
    "ufs = [\"GO\",\"MG\",\"BA\"]\n",
    "for ano in anos:\n",
    "    for uf in ufs:\n",
    "        url = str(URL)+\"/\"+str(ano)\n",
    "        print(url)\n",
    "        response = requests.get(url)\n",
    "        soup = BeautifulSoup(response.text, 'html.parser')\n",
    "        links = [a['href'] for a in soup.find_all('a', href=True)]\n",
    "        #ufs = [\"GO\",\"MG\",\"BA\"]\n",
    "        r = re.compile(\".*\"+uf)\n",
    "        aux= list(filter(r.match, links))\n",
    "        print(aux)\n",
    "        for zip_file_name in aux:\n",
    "            print(zip_file_name)\n",
    "            print(zip_file_name.replace(\".zip\", \".csv\"))\n",
    "            print(url+\"/\"+zip_file_name)\n",
    "            baixar_descompactar_e_salvar_csv_com_pyspark(url+\"/\"+zip_file_name,\n",
    "                                             zip_file_name, zip_file_name.replace(\".zip\", \".csv\"),\n",
    "                                                 \"endereco\", \"TOTAL\",uf, ano)\n",
    "     "
   ]
  },
  {
   "cell_type": "markdown",
   "id": "5a673624",
   "metadata": {},
   "source": [
    "## Download das bases de dados complementáres de códigos TUSS "
   ]
  },
  {
   "cell_type": "markdown",
   "id": "63fc5068",
   "metadata": {},
   "source": [
    "### Utilizada para normalização e acesso de referencia de procedimentos realizados"
   ]
  },
  {
   "cell_type": "code",
   "execution_count": 96,
   "id": "41bfff07",
   "metadata": {},
   "outputs": [],
   "source": [
    "# URL da pasta compactada\n",
    "url = \"https://dadosabertos.ans.gov.br/FTP/PDA/terminologia_unificada_saude_suplementar_TUSS/TUSS.zip\"\n",
    "\n",
    "# Faça o download do arquivo\n",
    "response = requests.get(url)\n",
    "    # Crie um objeto BytesIO para trabalhar com os dados\n",
    "zip_data = io.BytesIO(response.content)\n",
    "    \n",
    "    # Descompacte o arquivo\n",
    "with zipfile.ZipFile(zip_data, 'r') as zip_ref:\n",
    "    zip_ref.extractall(\"/Users/matheuscosta/Untitled Folder/TUSS\")\n",
    "\n"
   ]
  },
  {
   "cell_type": "markdown",
   "id": "60425dcf",
   "metadata": {},
   "source": [
    "## Download de base de rede credenciada para as UF's alvo"
   ]
  },
  {
   "cell_type": "code",
   "execution_count": 145,
   "id": "3015c2fa",
   "metadata": {},
   "outputs": [],
   "source": [
    "# URL da pasta compactada\n",
    "url = \"https://dadosabertos.ans.gov.br/FTP/PDA/operadoras_e_prestadores_nao_hospitalares/operadoras_e_prestadores_nao_hospitalares.zip\"\n",
    "\n",
    "# Faça o download do arquivo\n",
    "response = requests.get(url)\n",
    "    # Crie um objeto BytesIO para trabalhar com os dados\n",
    "zip_data = io.BytesIO(response.content)\n",
    "    \n",
    "    # Descompacte o arquivo\n",
    "with zipfile.ZipFile(zip_data, 'r') as zip_ref:\n",
    "    zip_ref.extractall(\"/Users/matheuscosta/Untitled Folder/prestador_amb\")\n",
    "    \n",
    "aux = os.listdir(\"/Users/matheuscosta/Untitled Folder/prestador_amb\")\n",
    "aux = [item for item in aux if \"GO\" not in item]\n",
    "aux = [item for item in aux if \"MG\" not in item]\n",
    "aux = [item for item in aux if \"BA\" not in item]\n",
    "for file in aux:\n",
    "    os.remove(os.path.join(\"/Users/matheuscosta/Untitled Folder/prestador_amb\", file))"
   ]
  },
  {
   "cell_type": "markdown",
   "id": "677fa33d",
   "metadata": {},
   "source": [
    "## Os demais códigos abaixo são projetos de implementação para o consumo de rede credenciada hospitalar para as praças desejadas"
   ]
  },
  {
   "cell_type": "code",
   "execution_count": 147,
   "id": "d7d537e3",
   "metadata": {},
   "outputs": [
    {
     "ename": "OSError",
     "evalue": "[Errno 28] No space left on device",
     "output_type": "error",
     "traceback": [
      "\u001b[0;31m---------------------------------------------------------------------------\u001b[0m",
      "\u001b[0;31mOSError\u001b[0m                                   Traceback (most recent call last)",
      "Cell \u001b[0;32mIn[147], line 11\u001b[0m\n\u001b[1;32m      9\u001b[0m     \u001b[38;5;66;03m# Descompacte o arquivo\u001b[39;00m\n\u001b[1;32m     10\u001b[0m \u001b[38;5;28;01mwith\u001b[39;00m zipfile\u001b[38;5;241m.\u001b[39mZipFile(zip_data, \u001b[38;5;124m'\u001b[39m\u001b[38;5;124mr\u001b[39m\u001b[38;5;124m'\u001b[39m) \u001b[38;5;28;01mas\u001b[39;00m zip_ref:\n\u001b[0;32m---> 11\u001b[0m     zip_ref\u001b[38;5;241m.\u001b[39mextractall(\u001b[38;5;124m\"\u001b[39m\u001b[38;5;124m/Users/matheuscosta/Untitled Folder/prestador_hosp\u001b[39m\u001b[38;5;124m\"\u001b[39m)\n\u001b[1;32m     13\u001b[0m aux \u001b[38;5;241m=\u001b[39m os\u001b[38;5;241m.\u001b[39mlistdir(\u001b[38;5;124m\"\u001b[39m\u001b[38;5;124m/Users/matheuscosta/Untitled Folder/prestador_hosp\u001b[39m\u001b[38;5;124m\"\u001b[39m)\n\u001b[1;32m     14\u001b[0m aux \u001b[38;5;241m=\u001b[39m [item \u001b[38;5;28;01mfor\u001b[39;00m item \u001b[38;5;129;01min\u001b[39;00m aux \u001b[38;5;28;01mif\u001b[39;00m \u001b[38;5;124m\"\u001b[39m\u001b[38;5;124mGO\u001b[39m\u001b[38;5;124m\"\u001b[39m \u001b[38;5;129;01mnot\u001b[39;00m \u001b[38;5;129;01min\u001b[39;00m item]\n",
      "File \u001b[0;32m~/anaconda3/lib/python3.11/zipfile.py:1681\u001b[0m, in \u001b[0;36mZipFile.extractall\u001b[0;34m(self, path, members, pwd)\u001b[0m\n\u001b[1;32m   1678\u001b[0m     path \u001b[38;5;241m=\u001b[39m os\u001b[38;5;241m.\u001b[39mfspath(path)\n\u001b[1;32m   1680\u001b[0m \u001b[38;5;28;01mfor\u001b[39;00m zipinfo \u001b[38;5;129;01min\u001b[39;00m members:\n\u001b[0;32m-> 1681\u001b[0m     \u001b[38;5;28mself\u001b[39m\u001b[38;5;241m.\u001b[39m_extract_member(zipinfo, path, pwd)\n",
      "File \u001b[0;32m~/anaconda3/lib/python3.11/zipfile.py:1736\u001b[0m, in \u001b[0;36mZipFile._extract_member\u001b[0;34m(self, member, targetpath, pwd)\u001b[0m\n\u001b[1;32m   1732\u001b[0m     \u001b[38;5;28;01mreturn\u001b[39;00m targetpath\n\u001b[1;32m   1734\u001b[0m \u001b[38;5;28;01mwith\u001b[39;00m \u001b[38;5;28mself\u001b[39m\u001b[38;5;241m.\u001b[39mopen(member, pwd\u001b[38;5;241m=\u001b[39mpwd) \u001b[38;5;28;01mas\u001b[39;00m source, \\\n\u001b[1;32m   1735\u001b[0m      \u001b[38;5;28mopen\u001b[39m(targetpath, \u001b[38;5;124m\"\u001b[39m\u001b[38;5;124mwb\u001b[39m\u001b[38;5;124m\"\u001b[39m) \u001b[38;5;28;01mas\u001b[39;00m target:\n\u001b[0;32m-> 1736\u001b[0m     shutil\u001b[38;5;241m.\u001b[39mcopyfileobj(source, target)\n\u001b[1;32m   1738\u001b[0m \u001b[38;5;28;01mreturn\u001b[39;00m targetpath\n",
      "File \u001b[0;32m~/anaconda3/lib/python3.11/shutil.py:200\u001b[0m, in \u001b[0;36mcopyfileobj\u001b[0;34m(fsrc, fdst, length)\u001b[0m\n\u001b[1;32m    198\u001b[0m \u001b[38;5;28;01mif\u001b[39;00m \u001b[38;5;129;01mnot\u001b[39;00m buf:\n\u001b[1;32m    199\u001b[0m     \u001b[38;5;28;01mbreak\u001b[39;00m\n\u001b[0;32m--> 200\u001b[0m fdst_write(buf)\n",
      "\u001b[0;31mOSError\u001b[0m: [Errno 28] No space left on device"
     ]
    }
   ],
   "source": [
    "# URL da pasta compactada\n",
    "#url = \"https://dadosabertos.ans.gov.br/FTP/PDA/produtos_e_prestadores_hospitalares/produtos_e_prestadores_hospitalares.zip\"\n",
    "\n",
    "# Faça o download do arquivo\n",
    "#response = requests.get(url)\n",
    "    # Crie um objeto BytesIO para trabalhar com os dados\n",
    "#zip_data = io.BytesIO(response.content)\n",
    "    \n",
    "    # Descompacte o arquivo\n",
    "#with zipfile.ZipFile(zip_data, 'r') as zip_ref:\n",
    "#    zip_ref.extractall(\"/Users/matheuscosta/Untitled Folder/prestador_hosp\")\n",
    "    \n",
    "#aux = os.listdir(\"/Users/matheuscosta/Untitled Folder/prestador_hosp\")\n",
    "#aux = [item for item in aux if \"GO\" not in item]\n",
    "#aux = [item for item in aux if \"MG\" not in item]\n",
    "#aux = [item for item in aux if \"BA\" not in item]\n",
    "#for file in aux:\n",
    "#    os.remove(os.path.join(\"/Users/matheuscosta/Untitled Folder/prestador_hosp\", file))"
   ]
  },
  {
   "cell_type": "code",
   "execution_count": 152,
   "id": "eba0a2df",
   "metadata": {},
   "outputs": [
    {
     "ename": "OSError",
     "evalue": "[Errno 28] No space left on device",
     "output_type": "error",
     "traceback": [
      "\u001b[0;31m---------------------------------------------------------------------------\u001b[0m",
      "\u001b[0;31mOSError\u001b[0m                                   Traceback (most recent call last)",
      "Cell \u001b[0;32mIn[152], line 21\u001b[0m\n\u001b[1;32m     19\u001b[0m \u001b[38;5;66;03m# Descompactar o arquivo ZIP\u001b[39;00m\n\u001b[1;32m     20\u001b[0m \u001b[38;5;28;01mwith\u001b[39;00m zipfile\u001b[38;5;241m.\u001b[39mZipFile(\u001b[38;5;124mf\u001b[39m\u001b[38;5;124m\"\u001b[39m\u001b[38;5;132;01m{\u001b[39;00mtemp_dir\u001b[38;5;132;01m}\u001b[39;00m\u001b[38;5;124m/\u001b[39m\u001b[38;5;132;01m{\u001b[39;00mzip_file_name\u001b[38;5;132;01m}\u001b[39;00m\u001b[38;5;124m\"\u001b[39m, \u001b[38;5;124m\"\u001b[39m\u001b[38;5;124mr\u001b[39m\u001b[38;5;124m\"\u001b[39m) \u001b[38;5;28;01mas\u001b[39;00m zip_ref:\n\u001b[0;32m---> 21\u001b[0m     zip_ref\u001b[38;5;241m.\u001b[39mextractall(temp_dir)\n\u001b[1;32m     22\u001b[0m     aux \u001b[38;5;241m=\u001b[39m os\u001b[38;5;241m.\u001b[39mlistdir(temp_dir)\n\u001b[1;32m     23\u001b[0m     prin(aux)\n",
      "File \u001b[0;32m~/anaconda3/lib/python3.11/zipfile.py:1681\u001b[0m, in \u001b[0;36mZipFile.extractall\u001b[0;34m(self, path, members, pwd)\u001b[0m\n\u001b[1;32m   1678\u001b[0m     path \u001b[38;5;241m=\u001b[39m os\u001b[38;5;241m.\u001b[39mfspath(path)\n\u001b[1;32m   1680\u001b[0m \u001b[38;5;28;01mfor\u001b[39;00m zipinfo \u001b[38;5;129;01min\u001b[39;00m members:\n\u001b[0;32m-> 1681\u001b[0m     \u001b[38;5;28mself\u001b[39m\u001b[38;5;241m.\u001b[39m_extract_member(zipinfo, path, pwd)\n",
      "File \u001b[0;32m~/anaconda3/lib/python3.11/zipfile.py:1736\u001b[0m, in \u001b[0;36mZipFile._extract_member\u001b[0;34m(self, member, targetpath, pwd)\u001b[0m\n\u001b[1;32m   1732\u001b[0m     \u001b[38;5;28;01mreturn\u001b[39;00m targetpath\n\u001b[1;32m   1734\u001b[0m \u001b[38;5;28;01mwith\u001b[39;00m \u001b[38;5;28mself\u001b[39m\u001b[38;5;241m.\u001b[39mopen(member, pwd\u001b[38;5;241m=\u001b[39mpwd) \u001b[38;5;28;01mas\u001b[39;00m source, \\\n\u001b[1;32m   1735\u001b[0m      \u001b[38;5;28mopen\u001b[39m(targetpath, \u001b[38;5;124m\"\u001b[39m\u001b[38;5;124mwb\u001b[39m\u001b[38;5;124m\"\u001b[39m) \u001b[38;5;28;01mas\u001b[39;00m target:\n\u001b[0;32m-> 1736\u001b[0m     shutil\u001b[38;5;241m.\u001b[39mcopyfileobj(source, target)\n\u001b[1;32m   1738\u001b[0m \u001b[38;5;28;01mreturn\u001b[39;00m targetpath\n",
      "File \u001b[0;32m~/anaconda3/lib/python3.11/shutil.py:200\u001b[0m, in \u001b[0;36mcopyfileobj\u001b[0;34m(fsrc, fdst, length)\u001b[0m\n\u001b[1;32m    198\u001b[0m \u001b[38;5;28;01mif\u001b[39;00m \u001b[38;5;129;01mnot\u001b[39;00m buf:\n\u001b[1;32m    199\u001b[0m     \u001b[38;5;28;01mbreak\u001b[39;00m\n\u001b[0;32m--> 200\u001b[0m fdst_write(buf)\n",
      "\u001b[0;31mOSError\u001b[0m: [Errno 28] No space left on device"
     ]
    }
   ],
   "source": [
    "# URL da pasta compactada\n",
    "#zip_file_url = \"https://dadosabertos.ans.gov.br/FTP/PDA/produtos_e_prestadores_hospitalares/produtos_e_prestadores_hospitalares.zip\"\n",
    "#zip_file_name = \"produtos_e_prestadores_hospitalares.zip\"\n",
    "# Faça o download do arquivo\n",
    "#response = requests.get(url)\n",
    "    # Crie um objeto BytesIO para trabalhar com os dados\n",
    "#zip_data = io.BytesIO(response.content)\n",
    "    \n",
    "    # Descompacte o arquivo\n",
    "#with zipfile.ZipFile(zip_data, 'r') as zip_ref:\n",
    "#    zip_ref.extractall(\"/Users/matheuscosta/Untitled Folder/prestador_hosp\")\n",
    "    \n",
    "#with tempfile.TemporaryDirectory() as temp_dir:\n",
    "#        # Baixar o arquivo ZIP\n",
    "#        response = requests.get(zip_file_url)\n",
    "#        with open(f\"{temp_dir}/{zip_file_name}\", \"wb\") as zip_file:\n",
    "#            zip_file.write(response.content)\n",
    "\n",
    "        # Descompactar o arquivo ZIP\n",
    "#        with zipfile.ZipFile(f\"{temp_dir}/{zip_file_name}\", \"r\") as zip_ref:\n",
    "#            zip_ref.extractall(temp_dir)\n",
    "#            aux = os.listdir(temp_dir)\n",
    "#            prin(aux)\n"
   ]
  }
 ],
 "metadata": {
  "kernelspec": {
   "display_name": "Python 3 (ipykernel)",
   "language": "python",
   "name": "python3"
  },
  "language_info": {
   "codemirror_mode": {
    "name": "ipython",
    "version": 3
   },
   "file_extension": ".py",
   "mimetype": "text/x-python",
   "name": "python",
   "nbconvert_exporter": "python",
   "pygments_lexer": "ipython3",
   "version": "3.11.5"
  }
 },
 "nbformat": 4,
 "nbformat_minor": 5
}
