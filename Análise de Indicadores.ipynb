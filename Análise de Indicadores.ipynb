{
 "cells": [
  {
   "cell_type": "markdown",
   "id": "b25f4a15",
   "metadata": {},
   "source": [
    "# Script de Análise dos Dados"
   ]
  },
  {
   "cell_type": "markdown",
   "id": "978563ce",
   "metadata": {},
   "source": [
    "Matheus Costa e Silva - 24 de outubro de 2023"
   ]
  },
  {
   "cell_type": "markdown",
   "id": "44cccc31",
   "metadata": {},
   "source": [
    "## Preparação de ambiente"
   ]
  },
  {
   "cell_type": "code",
   "execution_count": 5,
   "id": "dcbc53eb",
   "metadata": {},
   "outputs": [],
   "source": [
    "import glob\n",
    "import os\n",
    "import pandas as pd\n",
    "import matplotlib.pyplot as plt"
   ]
  },
  {
   "cell_type": "markdown",
   "id": "cdae22ad",
   "metadata": {},
   "source": [
    "## Leitura dos dataframes"
   ]
  },
  {
   "cell_type": "code",
   "execution_count": 125,
   "id": "19da034f",
   "metadata": {},
   "outputs": [],
   "source": [
    "all_files = glob.glob(\"/Users/matheuscosta/Untitled Folder/indicadores/indicador_demo/*.csv\")\n",
    "df_demo = pd.concat((pd.read_csv(f) for f in all_files))\n",
    "\n",
    "all_files = glob.glob(\"/Users/matheuscosta/Untitled Folder/indicadores/indicador_proc/*.csv\")\n",
    "df_proc = pd.concat((pd.read_csv(f) for f in all_files))\n",
    "\n",
    "all_files = glob.glob(\"/Users/matheuscosta/Untitled Folder/indicadores/indicador_geo/*.csv\")\n",
    "df_geo = pd.concat((pd.read_csv(f) for f in all_files))\n",
    "\n",
    "all_files = glob.glob(\"/Users/matheuscosta/Untitled Folder/indicadores/indicador_cred/*.csv\")\n",
    "df_cred = pd.concat((pd.read_csv(f) for f in all_files))\n",
    "\n",
    "all_files = glob.glob(\"/Users/matheuscosta/Untitled Folder/indicadores/operadora_uf/*.csv\")\n",
    "df_operadora = pd.concat((pd.read_csv(f) for f in all_files))\n",
    "\n",
    "all_files = glob.glob(\"/Users/matheuscosta/Untitled Folder/indicadores/indicador_benef/*.csv\")\n",
    "df_benef = pd.concat((pd.read_csv(f) for f in all_files))\n",
    "\n",
    "tuss = pd.read_csv(\"/Users/matheuscosta/Untitled Folder/indicadores/tuss.csv\")"
   ]
  },
  {
   "cell_type": "markdown",
   "id": "6b0a6882",
   "metadata": {},
   "source": [
    "## Demografia dos Eventos"
   ]
  },
  {
   "cell_type": "code",
   "execution_count": 87,
   "id": "9b03f3e8",
   "metadata": {},
   "outputs": [
    {
     "data": {
      "text/html": [
       "<div>\n",
       "<style scoped>\n",
       "    .dataframe tbody tr th:only-of-type {\n",
       "        vertical-align: middle;\n",
       "    }\n",
       "\n",
       "    .dataframe tbody tr th {\n",
       "        vertical-align: top;\n",
       "    }\n",
       "\n",
       "    .dataframe thead th {\n",
       "        text-align: right;\n",
       "    }\n",
       "</style>\n",
       "<table border=\"1\" class=\"dataframe\">\n",
       "  <thead>\n",
       "    <tr style=\"text-align: right;\">\n",
       "      <th></th>\n",
       "      <th>PORTE</th>\n",
       "      <th>SEXO</th>\n",
       "      <th>FAIXA_ETARIA</th>\n",
       "      <th>UF_Cons</th>\n",
       "      <th>soma_item</th>\n",
       "      <th>soma_valor</th>\n",
       "      <th>contagem_evento</th>\n",
       "      <th>Custo_Medio</th>\n",
       "    </tr>\n",
       "  </thead>\n",
       "  <tbody>\n",
       "    <tr>\n",
       "      <th>0</th>\n",
       "      <td>GRANDE</td>\n",
       "      <td>Feminino</td>\n",
       "      <td>5 a 9</td>\n",
       "      <td>GO</td>\n",
       "      <td>1917.0</td>\n",
       "      <td>10358.0</td>\n",
       "      <td>195</td>\n",
       "      <td>53.117949</td>\n",
       "    </tr>\n",
       "    <tr>\n",
       "      <th>1</th>\n",
       "      <td>MÉDIO</td>\n",
       "      <td>Masculino</td>\n",
       "      <td>60 a 69</td>\n",
       "      <td>MG</td>\n",
       "      <td>221660.0</td>\n",
       "      <td>301279.0</td>\n",
       "      <td>695</td>\n",
       "      <td>433.494964</td>\n",
       "    </tr>\n",
       "    <tr>\n",
       "      <th>2</th>\n",
       "      <td>GRANDE</td>\n",
       "      <td>Masculino</td>\n",
       "      <td>15 a 19</td>\n",
       "      <td>MG</td>\n",
       "      <td>9057.0</td>\n",
       "      <td>9080.0</td>\n",
       "      <td>84</td>\n",
       "      <td>108.095238</td>\n",
       "    </tr>\n",
       "    <tr>\n",
       "      <th>3</th>\n",
       "      <td>GRANDE</td>\n",
       "      <td>Masculino</td>\n",
       "      <td>60 a 69</td>\n",
       "      <td>BA</td>\n",
       "      <td>67391.0</td>\n",
       "      <td>583110.0</td>\n",
       "      <td>2141</td>\n",
       "      <td>272.354040</td>\n",
       "    </tr>\n",
       "    <tr>\n",
       "      <th>4</th>\n",
       "      <td>SEM BENEFICIÁRIOS</td>\n",
       "      <td>Masculino</td>\n",
       "      <td>30 a 39</td>\n",
       "      <td>MG</td>\n",
       "      <td>142.0</td>\n",
       "      <td>5282.0</td>\n",
       "      <td>58</td>\n",
       "      <td>91.068966</td>\n",
       "    </tr>\n",
       "  </tbody>\n",
       "</table>\n",
       "</div>"
      ],
      "text/plain": [
       "               PORTE       SEXO FAIXA_ETARIA UF_Cons  soma_item  soma_valor  \\\n",
       "0             GRANDE   Feminino        5 a 9      GO     1917.0     10358.0   \n",
       "1              MÉDIO  Masculino      60 a 69      MG   221660.0    301279.0   \n",
       "2             GRANDE  Masculino      15 a 19      MG     9057.0      9080.0   \n",
       "3             GRANDE  Masculino      60 a 69      BA    67391.0    583110.0   \n",
       "4  SEM BENEFICIÁRIOS  Masculino      30 a 39      MG      142.0      5282.0   \n",
       "\n",
       "   contagem_evento  Custo_Medio  \n",
       "0              195    53.117949  \n",
       "1              695   433.494964  \n",
       "2               84   108.095238  \n",
       "3             2141   272.354040  \n",
       "4               58    91.068966  "
      ]
     },
     "execution_count": 87,
     "metadata": {},
     "output_type": "execute_result"
    }
   ],
   "source": [
    "df_demo.head()"
   ]
  },
  {
   "cell_type": "code",
   "execution_count": 170,
   "id": "297c79ed",
   "metadata": {},
   "outputs": [
    {
     "name": "stdout",
     "output_type": "stream",
     "text": [
      "        SEXO UF_Cons  contagem_evento\n",
      "0   Feminino      BA            29105\n",
      "3  Masculino      BA            22794\n",
      "1   Feminino      GO             8363\n",
      "4  Masculino      GO             4296\n",
      "2   Feminino      MG            25783\n",
      "5  Masculino      MG            15271\n"
     ]
    },
    {
     "data": {
      "image/png": "[encoded data removed]",
      "text/plain": [
       "<Figure size 1000x600 with 1 Axes>"
      ]
     },
     "metadata": {},
     "output_type": "display_data"
    }
   ],
   "source": [
    "df_grouped = df_demo.groupby(['SEXO', 'UF_Cons'])['contagem_evento'].sum().reset_index()\n",
    "df_grouped = df_grouped.sort_values(['UF_Cons', 'SEXO'], ascending=[True, True])\n",
    "\n",
    "df_pivot = df_grouped.pivot_table(index='UF_Cons', columns='SEXO', values='contagem_evento', fill_value=0)\n",
    "print(df_grouped)\n",
    "# Criar o gráfico de barras empilhadas\n",
    "ax = df_pivot.plot(kind='bar', stacked=True, figsize=(10, 6))\n",
    "\n",
    "# Definir os rótulos do eixo X (UFs)\n",
    "ax.set_xticklabels(df_pivot.index, rotation=0)\n",
    "\n",
    "# Definir o título e rótulos dos eixos\n",
    "plt.title('Número de Eventos')\n",
    "plt.xlabel('UF')\n",
    "plt.ylabel('Valor')\n",
    "\n",
    "# Mostrar o gráfico\n",
    "plt.legend(title='Gênero')\n",
    "plt.show()\n"
   ]
  },
  {
   "cell_type": "code",
   "execution_count": 188,
   "id": "5d23d1ec",
   "metadata": {},
   "outputs": [
    {
     "name": "stdout",
     "output_type": "stream",
     "text": [
      "        SEXO  contagem_evento\n",
      "0   Feminino            63251\n",
      "1  Masculino            42361\n"
     ]
    },
    {
     "data": {
      "image/png": "[encoded data removed]",
      "text/plain": [
       "<Figure size 640x480 with 1 Axes>"
      ]
     },
     "metadata": {},
     "output_type": "display_data"
    }
   ],
   "source": [
    " \n",
    "# Create a circle at the center of the plot\n",
    "my_circle = plt.Circle( (0,0), 0.7, color='white')\n",
    "\n",
    "plt.show()\n",
    "\n",
    "uf=\"GERAL\"\n",
    "\n",
    "df_grouped = df_demo.groupby(['SEXO'])['contagem_evento'].sum().reset_index()\n",
    "df_grouped = df_grouped.sort_values(['SEXO'], ascending=[True])\n",
    "\n",
    "print(df_grouped)\n",
    "\n",
    "\n",
    "# Label distance: gives the space between labels and the center of the pie\n",
    "plt.pie(df_grouped[\"contagem_evento\"], labels=df_grouped[\"SEXO\"],\n",
    "        labeldistance=0.45, wedgeprops = { 'linewidth' : 7, 'edgecolor' : 'white' })\n",
    "p = plt.gcf()\n",
    "p.gca().add_artist(my_circle)\n",
    "plt.title(str(uf))\n",
    "plt.show()\n"
   ]
  },
  {
   "cell_type": "code",
   "execution_count": 189,
   "id": "505d2b33",
   "metadata": {},
   "outputs": [
    {
     "name": "stdout",
     "output_type": "stream",
     "text": [
      "        SEXO  contagem_evento\n",
      "0   Feminino            29105\n",
      "1  Masculino            22794\n"
     ]
    },
    {
     "data": {
      "image/png": "[encoded data removed]",
      "text/plain": [
       "<Figure size 640x480 with 1 Axes>"
      ]
     },
     "metadata": {},
     "output_type": "display_data"
    }
   ],
   "source": [
    " \n",
    "# Create a circle at the center of the plot\n",
    "my_circle = plt.Circle( (0,0), 0.7, color='white')\n",
    "\n",
    "plt.show()\n",
    "\n",
    "uf=\"BA\"\n",
    "\n",
    "df_grouped = df_demo[df_demo.UF_Cons == uf].groupby(['SEXO'])['contagem_evento'].sum().reset_index()\n",
    "df_grouped = df_grouped.sort_values(['SEXO'], ascending=[True])\n",
    "\n",
    "print(df_grouped)\n",
    "\n",
    "\n",
    "# Label distance: gives the space between labels and the center of the pie\n",
    "plt.pie(df_grouped[\"contagem_evento\"], labels=df_grouped[\"SEXO\"],\n",
    "        labeldistance=0.45, wedgeprops = { 'linewidth' : 7, 'edgecolor' : 'white' })\n",
    "p = plt.gcf()\n",
    "p.gca().add_artist(my_circle)\n",
    "plt.title(str(uf))\n",
    "plt.show()\n"
   ]
  },
  {
   "cell_type": "code",
   "execution_count": 190,
   "id": "d4794c70",
   "metadata": {},
   "outputs": [
    {
     "name": "stdout",
     "output_type": "stream",
     "text": [
      "        SEXO  contagem_evento\n",
      "0   Feminino             8363\n",
      "1  Masculino             4296\n"
     ]
    },
    {
     "data": {
      "image/png": "[encoded data removed]",
      "text/plain": [
       "<Figure size 640x480 with 1 Axes>"
      ]
     },
     "metadata": {},
     "output_type": "display_data"
    }
   ],
   "source": [
    " \n",
    "# Create a circle at the center of the plot\n",
    "my_circle = plt.Circle( (0,0), 0.7, color='white')\n",
    "\n",
    "plt.show()\n",
    "\n",
    "uf=\"GO\"\n",
    "\n",
    "df_grouped = df_demo[df_demo.UF_Cons == uf].groupby(['SEXO'])['contagem_evento'].sum().reset_index()\n",
    "df_grouped = df_grouped.sort_values(['SEXO'], ascending=[True])\n",
    "\n",
    "print(df_grouped)\n",
    "\n",
    "\n",
    "# Label distance: gives the space between labels and the center of the pie\n",
    "plt.pie(df_grouped[\"contagem_evento\"], labels=df_grouped[\"SEXO\"],\n",
    "        labeldistance=0.45, wedgeprops = { 'linewidth' : 7, 'edgecolor' : 'white' })\n",
    "p = plt.gcf()\n",
    "p.gca().add_artist(my_circle)\n",
    "plt.title(str(uf))\n",
    "plt.show()\n"
   ]
  },
  {
   "cell_type": "code",
   "execution_count": 191,
   "id": "55d59320",
   "metadata": {},
   "outputs": [
    {
     "name": "stdout",
     "output_type": "stream",
     "text": [
      "        SEXO  contagem_evento\n",
      "0   Feminino            25783\n",
      "1  Masculino            15271\n"
     ]
    },
    {
     "data": {
      "image/png": "[encoded data removed]",
      "text/plain": [
       "<Figure size 640x480 with 1 Axes>"
      ]
     },
     "metadata": {},
     "output_type": "display_data"
    }
   ],
   "source": [
    " \n",
    "# Create a circle at the center of the plot\n",
    "my_circle = plt.Circle( (0,0), 0.7, color='white')\n",
    "\n",
    "plt.show()\n",
    "\n",
    "uf=\"MG\"\n",
    "\n",
    "df_grouped = df_demo[df_demo.UF_Cons == uf].groupby(['SEXO'])['contagem_evento'].sum().reset_index()\n",
    "df_grouped = df_grouped.sort_values(['SEXO'], ascending=[True])\n",
    "\n",
    "print(df_grouped)\n",
    "\n",
    "\n",
    "# Label distance: gives the space between labels and the center of the pie\n",
    "plt.pie(df_grouped[\"contagem_evento\"], labels=df_grouped[\"SEXO\"],\n",
    "        labeldistance=0.45, wedgeprops = { 'linewidth' : 7, 'edgecolor' : 'white' })\n",
    "p = plt.gcf()\n",
    "p.gca().add_artist(my_circle)\n",
    "plt.title(str(uf))\n",
    "plt.show()\n"
   ]
  },
  {
   "cell_type": "code",
   "execution_count": 158,
   "id": "2a4214c7",
   "metadata": {},
   "outputs": [
    {
     "name": "stdout",
     "output_type": "stream",
     "text": [
      "        SEXO UF_Cons  soma_valor  contagem_evento    Custo_Medio\n",
      "0   Feminino      BA   2427191.0            29105  105120.000000\n",
      "1  Masculino      BA   1952376.0            22794   34348.153846\n",
      "2   Feminino      GO    795674.0             8363     673.427746\n",
      "3  Masculino      GO   1237012.0             4296   27331.500000\n",
      "4   Feminino      MG   7487047.0            25783    8453.714286\n",
      "5  Masculino      MG   7336043.0            15271    8339.350000\n"
     ]
    },
    {
     "data": {
      "image/png": "[encoded data removed]",
      "text/plain": [
       "<Figure size 1000x600 with 1 Axes>"
      ]
     },
     "metadata": {},
     "output_type": "display_data"
    }
   ],
   "source": [
    "df_grouped = df_demo.groupby(['SEXO', 'UF_Cons'])['soma_valor'].sum().reset_index()\n",
    "df_grouped = df_grouped.sort_values(['UF_Cons', 'SEXO'], ascending=[True, True])\n",
    "\n",
    "\n",
    "\n",
    "df_grouped2 = df_demo.groupby(['SEXO', 'UF_Cons'])['contagem_evento'].sum().reset_index()\n",
    "df_grouped2 = df_grouped2.sort_values(['UF_Cons', 'SEXO'], ascending=[True, True])\n",
    "\n",
    "\n",
    "\n",
    "df_demo_final=df_grouped.merge(df_grouped2, on=[\"SEXO\", \"UF_Cons\"], how=\"inner\")\n",
    "df_demo_final[\"Custo_Medio\"]=df_grouped_final[\"soma_valor\"]/df_grouped_final[\"contagem_evento\"]\n",
    "\n",
    "print(df_demo_final)\n",
    "\n",
    "\n",
    "df_pivot = df_demo_final.pivot_table(index='UF_Cons', columns='SEXO', values='Custo_Medio', fill_value=0)\n",
    "\n",
    "# Criar o gráfico de barras empilhadas\n",
    "ax = df_pivot.plot(kind='bar', stacked=True, figsize=(10, 6))\n",
    "\n",
    "# Definir os rótulos do eixo X (UFs)\n",
    "ax.set_xticklabels(df_pivot.index, rotation=0)\n",
    "\n",
    "# Definir o título e rótulos dos eixos\n",
    "plt.title('Custo Médio agrupado de Eventos')\n",
    "plt.xlabel('UF')\n",
    "plt.ylabel('Valor')\n",
    "\n",
    "# Mostrar o gráfico\n",
    "plt.legend(title='Gênero')\n",
    "plt.show()\n"
   ]
  },
  {
   "cell_type": "markdown",
   "id": "99e71047",
   "metadata": {},
   "source": [
    "## Distribuição dos Procedimentos"
   ]
  },
  {
   "cell_type": "code",
   "execution_count": 135,
   "id": "cfaba772",
   "metadata": {},
   "outputs": [
    {
     "data": {
      "text/html": [
       "<div>\n",
       "<style scoped>\n",
       "    .dataframe tbody tr th:only-of-type {\n",
       "        vertical-align: middle;\n",
       "    }\n",
       "\n",
       "    .dataframe tbody tr th {\n",
       "        vertical-align: top;\n",
       "    }\n",
       "\n",
       "    .dataframe thead th {\n",
       "        text-align: right;\n",
       "    }\n",
       "</style>\n",
       "<table border=\"1\" class=\"dataframe\">\n",
       "  <thead>\n",
       "    <tr style=\"text-align: right;\">\n",
       "      <th></th>\n",
       "      <th>codTUSS</th>\n",
       "      <th>SEXO</th>\n",
       "      <th>FAIXA_ETARIA</th>\n",
       "      <th>UF_Cons</th>\n",
       "      <th>soma_item</th>\n",
       "      <th>soma_valor</th>\n",
       "      <th>contagem_evento</th>\n",
       "      <th>rank</th>\n",
       "      <th>Unnamed: 0</th>\n",
       "      <th>Termo</th>\n",
       "    </tr>\n",
       "  </thead>\n",
       "  <tbody>\n",
       "    <tr>\n",
       "      <th>0</th>\n",
       "      <td>30</td>\n",
       "      <td>Feminino</td>\n",
       "      <td>40 a 49</td>\n",
       "      <td>BA</td>\n",
       "      <td>35878.0</td>\n",
       "      <td>183135.0</td>\n",
       "      <td>386</td>\n",
       "      <td>1</td>\n",
       "      <td>31320</td>\n",
       "      <td>MEDICAMENTOS</td>\n",
       "    </tr>\n",
       "    <tr>\n",
       "      <th>1</th>\n",
       "      <td>30</td>\n",
       "      <td>Masculino</td>\n",
       "      <td>60 a 69</td>\n",
       "      <td>BA</td>\n",
       "      <td>32122.0</td>\n",
       "      <td>175133.0</td>\n",
       "      <td>210</td>\n",
       "      <td>2</td>\n",
       "      <td>31320</td>\n",
       "      <td>MEDICAMENTOS</td>\n",
       "    </tr>\n",
       "    <tr>\n",
       "      <th>2</th>\n",
       "      <td>90537041</td>\n",
       "      <td>NaN</td>\n",
       "      <td>Não identificado</td>\n",
       "      <td>BA</td>\n",
       "      <td>600.0</td>\n",
       "      <td>122112.0</td>\n",
       "      <td>3</td>\n",
       "      <td>3</td>\n",
       "      <td>13333</td>\n",
       "      <td>KEYTRUDA</td>\n",
       "    </tr>\n",
       "    <tr>\n",
       "      <th>3</th>\n",
       "      <td>90383818</td>\n",
       "      <td>Feminino</td>\n",
       "      <td>40 a 49</td>\n",
       "      <td>BA</td>\n",
       "      <td>600.0</td>\n",
       "      <td>119518.0</td>\n",
       "      <td>3</td>\n",
       "      <td>4</td>\n",
       "      <td>13676</td>\n",
       "      <td>KEYTRUDA</td>\n",
       "    </tr>\n",
       "    <tr>\n",
       "      <th>4</th>\n",
       "      <td>90383818</td>\n",
       "      <td>Feminino</td>\n",
       "      <td>60 a 69</td>\n",
       "      <td>BA</td>\n",
       "      <td>1004.0</td>\n",
       "      <td>113868.0</td>\n",
       "      <td>6</td>\n",
       "      <td>5</td>\n",
       "      <td>13676</td>\n",
       "      <td>KEYTRUDA</td>\n",
       "    </tr>\n",
       "  </tbody>\n",
       "</table>\n",
       "</div>"
      ],
      "text/plain": [
       "    codTUSS       SEXO      FAIXA_ETARIA UF_Cons  soma_item  soma_valor  \\\n",
       "0        30   Feminino           40 a 49      BA    35878.0    183135.0   \n",
       "1        30  Masculino           60 a 69      BA    32122.0    175133.0   \n",
       "2  90537041        NaN  Não identificado      BA      600.0    122112.0   \n",
       "3  90383818   Feminino           40 a 49      BA      600.0    119518.0   \n",
       "4  90383818   Feminino           60 a 69      BA     1004.0    113868.0   \n",
       "\n",
       "   contagem_evento  rank Unnamed: 0         Termo  \n",
       "0              386     1      31320  MEDICAMENTOS  \n",
       "1              210     2      31320  MEDICAMENTOS  \n",
       "2                3     3      13333      KEYTRUDA  \n",
       "3                3     4      13676      KEYTRUDA  \n",
       "4                6     5      13676      KEYTRUDA  "
      ]
     },
     "execution_count": 135,
     "metadata": {},
     "output_type": "execute_result"
    }
   ],
   "source": [
    "df_proc1 = df_proc.rename(columns={'CD_PROCEDIMENTO': 'codTUSS'})\n",
    "tuss['codTUSS'] = tuss['codTUSS'].astype(str).str.replace('.0', '')\n",
    "df_proc1['codTUSS'] = df_proc1['codTUSS'].astype(str)\n",
    "df_proc_tuss=df_proc1.merge(tuss, on='codTUSS', how='left')\n",
    "df_proc_tuss.head()"
   ]
  },
  {
   "cell_type": "code",
   "execution_count": 222,
   "id": "d8367871",
   "metadata": {},
   "outputs": [
    {
     "data": {
      "image/png": "[encoded data removed]",
      "text/plain": [
       "<Figure size 1000x600 with 1 Axes>"
      ]
     },
     "metadata": {},
     "output_type": "display_data"
    }
   ],
   "source": [
    "df_grouped = df_proc_tuss.groupby(['Termo', 'UF_Cons'])['soma_valor'].sum().reset_index()\n",
    "df_grouped = df_grouped.sort_values(['UF_Cons', 'Termo'], ascending=[True, True])\n",
    "\n",
    "df_grouped2 = df_proc_tuss.groupby(['Termo', 'UF_Cons'])['contagem_evento'].sum().reset_index()\n",
    "df_grouped2 = df_grouped2.sort_values(['UF_Cons', 'Termo'], ascending=[True, True])\n",
    "\n",
    "\n",
    "\n",
    "df_grouped_final=df_grouped.merge(df_grouped2, on=[\"Termo\", \"UF_Cons\"], how=\"inner\")\n",
    "df_grouped_final[\"Custo_Medio\"]=df_grouped_final[\"soma_valor\"]/df_grouped_final[\"contagem_evento\"]\n",
    "df_grouped_final.head()\n",
    "\n",
    "\n",
    "\n",
    "#df_grouped = df_grouped_final.groupby(['Termo', 'UF_Cons'])['Custo_Medio'].sum().reset_index()\n",
    "#df_grouped = df_grouped.sort_values(['UF_Cons', 'Termo'], ascending=[True, True])\n",
    "\n",
    "df_pivot = df_grouped_final.pivot_table(index='UF_Cons', columns='Termo', values='Custo_Medio', fill_value=0)\n",
    "\n",
    "# Criar o gráfico de barras empilhadas\n",
    "ax = df_pivot.plot(kind='bar', stacked=True, figsize=(10, 6))\n",
    "\n",
    "# Definir os rótulos do eixo X (UFs)\n",
    "ax.set_xticklabels(df_pivot.index, rotation=0)\n",
    "\n",
    "# Definir o título e rótulos dos eixos\n",
    "plt.title('Custo Médio agrupado de Eventos')\n",
    "plt.xlabel('UF')\n",
    "plt.ylabel('Valor')\n",
    "\n",
    "# Mostrar o gráfico\n",
    "plt.legend(title='Procedimentos')\n",
    "plt.show()"
   ]
  },
  {
   "cell_type": "code",
   "execution_count": 255,
   "id": "64d3261c",
   "metadata": {},
   "outputs": [
    {
     "data": {
      "text/html": [
       "<div>\n",
       "<style scoped>\n",
       "    .dataframe tbody tr th:only-of-type {\n",
       "        vertical-align: middle;\n",
       "    }\n",
       "\n",
       "    .dataframe tbody tr th {\n",
       "        vertical-align: top;\n",
       "    }\n",
       "\n",
       "    .dataframe thead th {\n",
       "        text-align: right;\n",
       "    }\n",
       "</style>\n",
       "<table border=\"1\" class=\"dataframe\">\n",
       "  <thead>\n",
       "    <tr style=\"text-align: right;\">\n",
       "      <th>Termo</th>\n",
       "      <th>DALINVI</th>\n",
       "      <th>HUMIRA</th>\n",
       "      <th>IMBRUVICA</th>\n",
       "      <th>KEYTRUDA</th>\n",
       "      <th>MEDICAMENTOS</th>\n",
       "      <th>OPDIVO</th>\n",
       "      <th>Sessão individual ambulatorial de fonoaudiologia</th>\n",
       "    </tr>\n",
       "    <tr>\n",
       "      <th>UF_Cons</th>\n",
       "      <th></th>\n",
       "      <th></th>\n",
       "      <th></th>\n",
       "      <th></th>\n",
       "      <th></th>\n",
       "      <th></th>\n",
       "      <th></th>\n",
       "    </tr>\n",
       "  </thead>\n",
       "  <tbody>\n",
       "    <tr>\n",
       "      <th>BA</th>\n",
       "      <td>1</td>\n",
       "      <td>0</td>\n",
       "      <td>0</td>\n",
       "      <td>13</td>\n",
       "      <td>865</td>\n",
       "      <td>4</td>\n",
       "      <td>0</td>\n",
       "    </tr>\n",
       "    <tr>\n",
       "      <th>GO</th>\n",
       "      <td>7</td>\n",
       "      <td>20</td>\n",
       "      <td>6</td>\n",
       "      <td>19</td>\n",
       "      <td>118</td>\n",
       "      <td>0</td>\n",
       "      <td>22</td>\n",
       "    </tr>\n",
       "    <tr>\n",
       "      <th>MG</th>\n",
       "      <td>0</td>\n",
       "      <td>0</td>\n",
       "      <td>0</td>\n",
       "      <td>121</td>\n",
       "      <td>2737</td>\n",
       "      <td>26</td>\n",
       "      <td>0</td>\n",
       "    </tr>\n",
       "  </tbody>\n",
       "</table>\n",
       "</div>"
      ],
      "text/plain": [
       "Termo    DALINVI  HUMIRA  IMBRUVICA  KEYTRUDA  MEDICAMENTOS  OPDIVO  \\\n",
       "UF_Cons                                                               \n",
       "BA             1       0          0        13           865       4   \n",
       "GO             7      20          6        19           118       0   \n",
       "MG             0       0          0       121          2737      26   \n",
       "\n",
       "Termo    Sessão individual ambulatorial de fonoaudiologia  \n",
       "UF_Cons                                                    \n",
       "BA                                                      0  \n",
       "GO                                                     22  \n",
       "MG                                                      0  "
      ]
     },
     "execution_count": 255,
     "metadata": {},
     "output_type": "execute_result"
    }
   ],
   "source": [
    "df_pivot.head()"
   ]
  },
  {
   "cell_type": "code",
   "execution_count": 252,
   "id": "e9b07ce3",
   "metadata": {},
   "outputs": [
    {
     "data": {
      "text/html": [
       "<div>\n",
       "<style scoped>\n",
       "    .dataframe tbody tr th:only-of-type {\n",
       "        vertical-align: middle;\n",
       "    }\n",
       "\n",
       "    .dataframe tbody tr th {\n",
       "        vertical-align: top;\n",
       "    }\n",
       "\n",
       "    .dataframe thead th {\n",
       "        text-align: right;\n",
       "    }\n",
       "</style>\n",
       "<table border=\"1\" class=\"dataframe\">\n",
       "  <thead>\n",
       "    <tr style=\"text-align: right;\">\n",
       "      <th>Termo</th>\n",
       "      <th>DALINVI</th>\n",
       "      <th>HUMIRA</th>\n",
       "      <th>IMBRUVICA</th>\n",
       "      <th>KEYTRUDA</th>\n",
       "      <th>MEDICAMENTOS</th>\n",
       "      <th>OPDIVO</th>\n",
       "      <th>Sessão individual ambulatorial de fonoaudiologia</th>\n",
       "    </tr>\n",
       "    <tr>\n",
       "      <th>UF_Cons</th>\n",
       "      <th></th>\n",
       "      <th></th>\n",
       "      <th></th>\n",
       "      <th></th>\n",
       "      <th></th>\n",
       "      <th></th>\n",
       "      <th></th>\n",
       "    </tr>\n",
       "  </thead>\n",
       "  <tbody>\n",
       "    <tr>\n",
       "      <th>BA</th>\n",
       "      <td>105120</td>\n",
       "      <td>0</td>\n",
       "      <td>0</td>\n",
       "      <td>446526</td>\n",
       "      <td>582515</td>\n",
       "      <td>109326</td>\n",
       "      <td>0</td>\n",
       "    </tr>\n",
       "    <tr>\n",
       "      <th>GO</th>\n",
       "      <td>59176</td>\n",
       "      <td>166787</td>\n",
       "      <td>238165</td>\n",
       "      <td>184890</td>\n",
       "      <td>54006</td>\n",
       "      <td>0</td>\n",
       "      <td>52900</td>\n",
       "    </tr>\n",
       "    <tr>\n",
       "      <th>MG</th>\n",
       "      <td>0</td>\n",
       "      <td>0</td>\n",
       "      <td>0</td>\n",
       "      <td>1483526</td>\n",
       "      <td>1613836</td>\n",
       "      <td>239022</td>\n",
       "      <td>0</td>\n",
       "    </tr>\n",
       "  </tbody>\n",
       "</table>\n",
       "</div>"
      ],
      "text/plain": [
       "Termo    DALINVI  HUMIRA  IMBRUVICA  KEYTRUDA  MEDICAMENTOS  OPDIVO  \\\n",
       "UF_Cons                                                               \n",
       "BA        105120       0          0    446526        582515  109326   \n",
       "GO         59176  166787     238165    184890         54006       0   \n",
       "MG             0       0          0   1483526       1613836  239022   \n",
       "\n",
       "Termo    Sessão individual ambulatorial de fonoaudiologia  \n",
       "UF_Cons                                                    \n",
       "BA                                                      0  \n",
       "GO                                                  52900  \n",
       "MG                                                      0  "
      ]
     },
     "execution_count": 252,
     "metadata": {},
     "output_type": "execute_result"
    }
   ],
   "source": [
    "df_grouped = df_proc_tuss.groupby(['Termo', 'UF_Cons'])['soma_valor'].sum().reset_index()\n",
    "df_grouped = df_grouped.sort_values(['UF_Cons', 'Termo'], ascending=[True, True])\n",
    "\n",
    "df_pivot = df_grouped.pivot_table(index='UF_Cons', columns='Termo', values='soma_valor', fill_value=0)\n",
    "\n",
    "df_pivot.head()"
   ]
  },
  {
   "cell_type": "code",
   "execution_count": 254,
   "id": "5dee7ef9",
   "metadata": {},
   "outputs": [
    {
     "data": {
      "text/html": [
       "<div>\n",
       "<style scoped>\n",
       "    .dataframe tbody tr th:only-of-type {\n",
       "        vertical-align: middle;\n",
       "    }\n",
       "\n",
       "    .dataframe tbody tr th {\n",
       "        vertical-align: top;\n",
       "    }\n",
       "\n",
       "    .dataframe thead th {\n",
       "        text-align: right;\n",
       "    }\n",
       "</style>\n",
       "<table border=\"1\" class=\"dataframe\">\n",
       "  <thead>\n",
       "    <tr style=\"text-align: right;\">\n",
       "      <th>Termo</th>\n",
       "      <th>DALINVI</th>\n",
       "      <th>HUMIRA</th>\n",
       "      <th>IMBRUVICA</th>\n",
       "      <th>KEYTRUDA</th>\n",
       "      <th>MEDICAMENTOS</th>\n",
       "      <th>OPDIVO</th>\n",
       "      <th>Sessão individual ambulatorial de fonoaudiologia</th>\n",
       "    </tr>\n",
       "    <tr>\n",
       "      <th>UF_Cons</th>\n",
       "      <th></th>\n",
       "      <th></th>\n",
       "      <th></th>\n",
       "      <th></th>\n",
       "      <th></th>\n",
       "      <th></th>\n",
       "      <th></th>\n",
       "    </tr>\n",
       "  </thead>\n",
       "  <tbody>\n",
       "    <tr>\n",
       "      <th>BA</th>\n",
       "      <td>1</td>\n",
       "      <td>0</td>\n",
       "      <td>0</td>\n",
       "      <td>13</td>\n",
       "      <td>865</td>\n",
       "      <td>4</td>\n",
       "      <td>0</td>\n",
       "    </tr>\n",
       "    <tr>\n",
       "      <th>GO</th>\n",
       "      <td>7</td>\n",
       "      <td>20</td>\n",
       "      <td>6</td>\n",
       "      <td>19</td>\n",
       "      <td>118</td>\n",
       "      <td>0</td>\n",
       "      <td>22</td>\n",
       "    </tr>\n",
       "    <tr>\n",
       "      <th>MG</th>\n",
       "      <td>0</td>\n",
       "      <td>0</td>\n",
       "      <td>0</td>\n",
       "      <td>121</td>\n",
       "      <td>2737</td>\n",
       "      <td>26</td>\n",
       "      <td>0</td>\n",
       "    </tr>\n",
       "  </tbody>\n",
       "</table>\n",
       "</div>"
      ],
      "text/plain": [
       "Termo    DALINVI  HUMIRA  IMBRUVICA  KEYTRUDA  MEDICAMENTOS  OPDIVO  \\\n",
       "UF_Cons                                                               \n",
       "BA             1       0          0        13           865       4   \n",
       "GO             7      20          6        19           118       0   \n",
       "MG             0       0          0       121          2737      26   \n",
       "\n",
       "Termo    Sessão individual ambulatorial de fonoaudiologia  \n",
       "UF_Cons                                                    \n",
       "BA                                                      0  \n",
       "GO                                                     22  \n",
       "MG                                                      0  "
      ]
     },
     "execution_count": 254,
     "metadata": {},
     "output_type": "execute_result"
    }
   ],
   "source": [
    "df_grouped = df_proc_tuss.groupby(['Termo', 'UF_Cons'])['contagem_evento'].sum().reset_index()\n",
    "df_grouped = df_grouped.sort_values(['UF_Cons', 'Termo'], ascending=[True, True])\n",
    "\n",
    "df_pivot = df_grouped.pivot_table(index='UF_Cons', columns='Termo', values='contagem_evento', fill_value=0)\n",
    "\n",
    "df_pivot.head()"
   ]
  },
  {
   "cell_type": "code",
   "execution_count": 238,
   "id": "123cbcf5",
   "metadata": {},
   "outputs": [
    {
     "name": "stdout",
     "output_type": "stream",
     "text": [
      "                                               Termo UF_Cons  soma_valor  \\\n",
      "0                                            DALINVI      BA    105120.0   \n",
      "1                                           KEYTRUDA      BA    446526.0   \n",
      "2                                       MEDICAMENTOS      BA    582515.0   \n",
      "3                                             OPDIVO      BA    109326.0   \n",
      "4                                            DALINVI      GO     59176.0   \n",
      "5                                             HUMIRA      GO    166787.0   \n",
      "6                                          IMBRUVICA      GO    238165.0   \n",
      "7                                           KEYTRUDA      GO    184890.0   \n",
      "8                                       MEDICAMENTOS      GO     54006.0   \n",
      "9   Sessão individual ambulatorial de fonoaudiologia      GO     52900.0   \n",
      "10                                          KEYTRUDA      MG   1483526.0   \n",
      "11                                      MEDICAMENTOS      MG   1613836.0   \n",
      "12                                            OPDIVO      MG    239022.0   \n",
      "\n",
      "    contagem_evento    Custo_Medio  \n",
      "0                 1  105120.000000  \n",
      "1                13   34348.153846  \n",
      "2               865     673.427746  \n",
      "3                 4   27331.500000  \n",
      "4                 7    8453.714286  \n",
      "5                20    8339.350000  \n",
      "6                 6   39694.166667  \n",
      "7                19    9731.052632  \n",
      "8               118     457.677966  \n",
      "9                22    2404.545455  \n",
      "10              121   12260.545455  \n",
      "11             2737     589.636829  \n",
      "12               26    9193.153846  \n"
     ]
    }
   ],
   "source": [
    "print(df_grouped_final)"
   ]
  },
  {
   "cell_type": "code",
   "execution_count": 247,
   "id": "7b825b6d",
   "metadata": {},
   "outputs": [
    {
     "data": {
      "text/plain": [
       "69080.507006"
      ]
     },
     "execution_count": 247,
     "metadata": {},
     "output_type": "execute_result"
    }
   ],
   "source": [
    "8453.714286+8339.350000+39694.166667+9731.052632+457.677966+2404.545455"
   ]
  },
  {
   "cell_type": "code",
   "execution_count": 248,
   "id": "b8d79a7a",
   "metadata": {
    "scrolled": true
   },
   "outputs": [
    {
     "data": {
      "application/vnd.plotly.v1+json": {
       "config": {
        "plotlyServerURL": "https://plot.ly"
       },
       "data": [
        {
         "branchvalues": "total",
         "domain": {
          "x": [
           0,
           1
          ],
          "y": [
           0,
           1
          ]
         },
         "hovertemplate": "categories=%{label}<br>value=%{value}<br>parent=%{parent}<extra></extra>",
         "labels": [
          "BA",
          "GO",
          "MG",
          "DALINVI_BA",
          "KEYTRUDA_BA",
          "MEDICAMENTOS_BA",
          "OPDIVO_BA",
          "DALINVI_GO",
          "HUMIRA_GO",
          "IMBRUVICA_GO",
          "KEYTRUDA_GO",
          "MEDICAMENTOS_GO",
          "Sessão individual ambulatorial de fonoaudiologia_GO",
          "KEYTRUDA_MG",
          "MEDICAMENTOS_MG",
          "OPDIVO_MG"
         ],
         "name": "",
         "parents": [
          "",
          "",
          "",
          "BA",
          "BA",
          "BA",
          "BA",
          "GO",
          "GO",
          "GO",
          "GO",
          "GO",
          "GO",
          "MG",
          "MG",
          "MG"
         ],
         "type": "sunburst",
         "values": [
          167473.081592,
          69080.507006,
          22043.336129999996,
          105120,
          34348.153846,
          673.427746,
          27331.5,
          8453.714286,
          8339.35,
          39694.166667,
          9731.052632,
          457.677966,
          2404.545455,
          12260.545455,
          589.636829,
          9193.153846
         ]
        }
       ],
       "layout": {
        "legend": {
         "tracegroupgap": 0
        },
        "margin": {
         "t": 60
        },
        "template": {
         "data": {
          "bar": [
           {
            "error_x": {
             "color": "#2a3f5f"
            },
            "error_y": {
             "color": "#2a3f5f"
            },
            "marker": {
             "line": {
              "color": "#E5ECF6",
              "width": 0.5
             },
             "pattern": {
              "fillmode": "overlay",
              "size": 10,
              "solidity": 0.2
             }
            },
            "type": "bar"
           }
          ],
          "barpolar": [
           {
            "marker": {
             "line": {
              "color": "#E5ECF6",
              "width": 0.5
             },
             "pattern": {
              "fillmode": "overlay",
              "size": 10,
              "solidity": 0.2
             }
            },
            "type": "barpolar"
           }
          ],
          "carpet": [
           {
            "aaxis": {
             "endlinecolor": "#2a3f5f",
             "gridcolor": "white",
             "linecolor": "white",
             "minorgridcolor": "white",
             "startlinecolor": "#2a3f5f"
            },
            "baxis": {
             "endlinecolor": "#2a3f5f",
             "gridcolor": "white",
             "linecolor": "white",
             "minorgridcolor": "white",
             "startlinecolor": "#2a3f5f"
            },
            "type": "carpet"
           }
          ],
          "choropleth": [
           {
            "colorbar": {
             "outlinewidth": 0,
             "ticks": ""
            },
            "type": "choropleth"
           }
          ],
          "contour": [
           {
            "colorbar": {
             "outlinewidth": 0,
             "ticks": ""
            },
            "colorscale": [
             [
              0,
              "#0d0887"
             ],
             [
              0.1111111111111111,
              "#46039f"
             ],
             [
              0.2222222222222222,
              "#7201a8"
             ],
             [
              0.3333333333333333,
              "#9c179e"
             ],
             [
              0.4444444444444444,
              "#bd3786"
             ],
             [
              0.5555555555555556,
              "#d8576b"
             ],
             [
              0.6666666666666666,
              "#ed7953"
             ],
             [
              0.7777777777777778,
              "#fb9f3a"
             ],
             [
              0.8888888888888888,
              "#fdca26"
             ],
             [
              1,
              "#f0f921"
             ]
            ],
            "type": "contour"
           }
          ],
          "contourcarpet": [
           {
            "colorbar": {
             "outlinewidth": 0,
             "ticks": ""
            },
            "type": "contourcarpet"
           }
          ],
          "heatmap": [
           {
            "colorbar": {
             "outlinewidth": 0,
             "ticks": ""
            },
            "colorscale": [
             [
              0,
              "#0d0887"
             ],
             [
              0.1111111111111111,
              "#46039f"
             ],
             [
              0.2222222222222222,
              "#7201a8"
             ],
             [
              0.3333333333333333,
              "#9c179e"
             ],
             [
              0.4444444444444444,
              "#bd3786"
             ],
             [
              0.5555555555555556,
              "#d8576b"
             ],
             [
              0.6666666666666666,
              "#ed7953"
             ],
             [
              0.7777777777777778,
              "#fb9f3a"
             ],
             [
              0.8888888888888888,
              "#fdca26"
             ],
             [
              1,
              "#f0f921"
             ]
            ],
            "type": "heatmap"
           }
          ],
          "heatmapgl": [
           {
            "colorbar": {
             "outlinewidth": 0,
             "ticks": ""
            },
            "colorscale": [
             [
              0,
              "#0d0887"
             ],
             [
              0.1111111111111111,
              "#46039f"
             ],
             [
              0.2222222222222222,
              "#7201a8"
             ],
             [
              0.3333333333333333,
              "#9c179e"
             ],
             [
              0.4444444444444444,
              "#bd3786"
             ],
             [
              0.5555555555555556,
              "#d8576b"
             ],
             [
              0.6666666666666666,
              "#ed7953"
             ],
             [
              0.7777777777777778,
              "#fb9f3a"
             ],
             [
              0.8888888888888888,
              "#fdca26"
             ],
             [
              1,
              "#f0f921"
             ]
            ],
            "type": "heatmapgl"
           }
          ],
          "histogram": [
           {
            "marker": {
             "pattern": {
              "fillmode": "overlay",
              "size": 10,
              "solidity": 0.2
             }
            },
            "type": "histogram"
           }
          ],
          "histogram2d": [
           {
            "colorbar": {
             "outlinewidth": 0,
             "ticks": ""
            },
            "colorscale": [
             [
              0,
              "#0d0887"
             ],
             [
              0.1111111111111111,
              "#46039f"
             ],
             [
              0.2222222222222222,
              "#7201a8"
             ],
             [
              0.3333333333333333,
              "#9c179e"
             ],
             [
              0.4444444444444444,
              "#bd3786"
             ],
             [
              0.5555555555555556,
              "#d8576b"
             ],
             [
              0.6666666666666666,
              "#ed7953"
             ],
             [
              0.7777777777777778,
              "#fb9f3a"
             ],
             [
              0.8888888888888888,
              "#fdca26"
             ],
             [
              1,
              "#f0f921"
             ]
            ],
            "type": "histogram2d"
           }
          ],
          "histogram2dcontour": [
           {
            "colorbar": {
             "outlinewidth": 0,
             "ticks": ""
            },
            "colorscale": [
             [
              0,
              "#0d0887"
             ],
             [
              0.1111111111111111,
              "#46039f"
             ],
             [
              0.2222222222222222,
              "#7201a8"
             ],
             [
              0.3333333333333333,
              "#9c179e"
             ],
             [
              0.4444444444444444,
              "#bd3786"
             ],
             [
              0.5555555555555556,
              "#d8576b"
             ],
             [
              0.6666666666666666,
              "#ed7953"
             ],
             [
              0.7777777777777778,
              "#fb9f3a"
             ],
             [
              0.8888888888888888,
              "#fdca26"
             ],
             [
              1,
              "#f0f921"
             ]
            ],
            "type": "histogram2dcontour"
           }
          ],
          "mesh3d": [
           {
            "colorbar": {
             "outlinewidth": 0,
             "ticks": ""
            },
            "type": "mesh3d"
           }
          ],
          "parcoords": [
           {
            "line": {
             "colorbar": {
              "outlinewidth": 0,
              "ticks": ""
             }
            },
            "type": "parcoords"
           }
          ],
          "pie": [
           {
            "automargin": true,
            "type": "pie"
           }
          ],
          "scatter": [
           {
            "fillpattern": {
             "fillmode": "overlay",
             "size": 10,
             "solidity": 0.2
            },
            "type": "scatter"
           }
          ],
          "scatter3d": [
           {
            "line": {
             "colorbar": {
              "outlinewidth": 0,
              "ticks": ""
             }
            },
            "marker": {
             "colorbar": {
              "outlinewidth": 0,
              "ticks": ""
             }
            },
            "type": "scatter3d"
           }
          ],
          "scattercarpet": [
           {
            "marker": {
             "colorbar": {
              "outlinewidth": 0,
              "ticks": ""
             }
            },
            "type": "scattercarpet"
           }
          ],
          "scattergeo": [
           {
            "marker": {
             "colorbar": {
              "outlinewidth": 0,
              "ticks": ""
             }
            },
            "type": "scattergeo"
           }
          ],
          "scattergl": [
           {
            "marker": {
             "colorbar": {
              "outlinewidth": 0,
              "ticks": ""
             }
            },
            "type": "scattergl"
           }
          ],
          "scattermapbox": [
           {
            "marker": {
             "colorbar": {
              "outlinewidth": 0,
              "ticks": ""
             }
            },
            "type": "scattermapbox"
           }
          ],
          "scatterpolar": [
           {
            "marker": {
             "colorbar": {
              "outlinewidth": 0,
              "ticks": ""
             }
            },
            "type": "scatterpolar"
           }
          ],
          "scatterpolargl": [
           {
            "marker": {
             "colorbar": {
              "outlinewidth": 0,
              "ticks": ""
             }
            },
            "type": "scatterpolargl"
           }
          ],
          "scatterternary": [
           {
            "marker": {
             "colorbar": {
              "outlinewidth": 0,
              "ticks": ""
             }
            },
            "type": "scatterternary"
           }
          ],
          "surface": [
           {
            "colorbar": {
             "outlinewidth": 0,
             "ticks": ""
            },
            "colorscale": [
             [
              0,
              "#0d0887"
             ],
             [
              0.1111111111111111,
              "#46039f"
             ],
             [
              0.2222222222222222,
              "#7201a8"
             ],
             [
              0.3333333333333333,
              "#9c179e"
             ],
             [
              0.4444444444444444,
              "#bd3786"
             ],
             [
              0.5555555555555556,
              "#d8576b"
             ],
             [
              0.6666666666666666,
              "#ed7953"
             ],
             [
              0.7777777777777778,
              "#fb9f3a"
             ],
             [
              0.8888888888888888,
              "#fdca26"
             ],
             [
              1,
              "#f0f921"
             ]
            ],
            "type": "surface"
           }
          ],
          "table": [
           {
            "cells": {
             "fill": {
              "color": "#EBF0F8"
             },
             "line": {
              "color": "white"
             }
            },
            "header": {
             "fill": {
              "color": "#C8D4E3"
             },
             "line": {
              "color": "white"
             }
            },
            "type": "table"
           }
          ]
         },
         "layout": {
          "annotationdefaults": {
           "arrowcolor": "#2a3f5f",
           "arrowhead": 0,
           "arrowwidth": 1
          },
          "autotypenumbers": "strict",
          "coloraxis": {
           "colorbar": {
            "outlinewidth": 0,
            "ticks": ""
           }
          },
          "colorscale": {
           "diverging": [
            [
             0,
             "#8e0152"
            ],
            [
             0.1,
             "#c51b7d"
            ],
            [
             0.2,
             "#de77ae"
            ],
            [
             0.3,
             "#f1b6da"
            ],
            [
             0.4,
             "#fde0ef"
            ],
            [
             0.5,
             "#f7f7f7"
            ],
            [
             0.6,
             "#e6f5d0"
            ],
            [
             0.7,
             "#b8e186"
            ],
            [
             0.8,
             "#7fbc41"
            ],
            [
             0.9,
             "#4d9221"
            ],
            [
             1,
             "#276419"
            ]
           ],
           "sequential": [
            [
             0,
             "#0d0887"
            ],
            [
             0.1111111111111111,
             "#46039f"
            ],
            [
             0.2222222222222222,
             "#7201a8"
            ],
            [
             0.3333333333333333,
             "#9c179e"
            ],
            [
             0.4444444444444444,
             "#bd3786"
            ],
            [
             0.5555555555555556,
             "#d8576b"
            ],
            [
             0.6666666666666666,
             "#ed7953"
            ],
            [
             0.7777777777777778,
             "#fb9f3a"
            ],
            [
             0.8888888888888888,
             "#fdca26"
            ],
            [
             1,
             "#f0f921"
            ]
           ],
           "sequentialminus": [
            [
             0,
             "#0d0887"
            ],
            [
             0.1111111111111111,
             "#46039f"
            ],
            [
             0.2222222222222222,
             "#7201a8"
            ],
            [
             0.3333333333333333,
             "#9c179e"
            ],
            [
             0.4444444444444444,
             "#bd3786"
            ],
            [
             0.5555555555555556,
             "#d8576b"
            ],
            [
             0.6666666666666666,
             "#ed7953"
            ],
            [
             0.7777777777777778,
             "#fb9f3a"
            ],
            [
             0.8888888888888888,
             "#fdca26"
            ],
            [
             1,
             "#f0f921"
            ]
           ]
          },
          "colorway": [
           "#636efa",
           "#EF553B",
           "#00cc96",
           "#ab63fa",
           "#FFA15A",
           "#19d3f3",
           "#FF6692",
           "#B6E880",
           "#FF97FF",
           "#FECB52"
          ],
          "font": {
           "color": "#2a3f5f"
          },
          "geo": {
           "bgcolor": "white",
           "lakecolor": "white",
           "landcolor": "#E5ECF6",
           "showlakes": true,
           "showland": true,
           "subunitcolor": "white"
          },
          "hoverlabel": {
           "align": "left"
          },
          "hovermode": "closest",
          "mapbox": {
           "style": "light"
          },
          "paper_bgcolor": "white",
          "plot_bgcolor": "#E5ECF6",
          "polar": {
           "angularaxis": {
            "gridcolor": "white",
            "linecolor": "white",
            "ticks": ""
           },
           "bgcolor": "#E5ECF6",
           "radialaxis": {
            "gridcolor": "white",
            "linecolor": "white",
            "ticks": ""
           }
          },
          "scene": {
           "xaxis": {
            "backgroundcolor": "#E5ECF6",
            "gridcolor": "white",
            "gridwidth": 2,
            "linecolor": "white",
            "showbackground": true,
            "ticks": "",
            "zerolinecolor": "white"
           },
           "yaxis": {
            "backgroundcolor": "#E5ECF6",
            "gridcolor": "white",
            "gridwidth": 2,
            "linecolor": "white",
            "showbackground": true,
            "ticks": "",
            "zerolinecolor": "white"
           },
           "zaxis": {
            "backgroundcolor": "#E5ECF6",
            "gridcolor": "white",
            "gridwidth": 2,
            "linecolor": "white",
            "showbackground": true,
            "ticks": "",
            "zerolinecolor": "white"
           }
          },
          "shapedefaults": {
           "line": {
            "color": "#2a3f5f"
           }
          },
          "ternary": {
           "aaxis": {
            "gridcolor": "white",
            "linecolor": "white",
            "ticks": ""
           },
           "baxis": {
            "gridcolor": "white",
            "linecolor": "white",
            "ticks": ""
           },
           "bgcolor": "#E5ECF6",
           "caxis": {
            "gridcolor": "white",
            "linecolor": "white",
            "ticks": ""
           }
          },
          "title": {
           "x": 0.05
          },
          "xaxis": {
           "automargin": true,
           "gridcolor": "white",
           "linecolor": "white",
           "ticks": "",
           "title": {
            "standoff": 15
           },
           "zerolinecolor": "white",
           "zerolinewidth": 2
          },
          "yaxis": {
           "automargin": true,
           "gridcolor": "white",
           "linecolor": "white",
           "ticks": "",
           "title": {
            "standoff": 15
           },
           "zerolinecolor": "white",
           "zerolinewidth": 2
          }
         }
        }
       }
      },
      "text/html": [
       "<div>                            <div id=\"e17e982b-a0ab-4067-91c8-f04fd814169a\" class=\"plotly-graph-div\" style=\"height:525px; width:100%;\"></div>            <script type=\"text/javascript\">                require([\"plotly\"], function(Plotly) {                    window.PLOTLYENV=window.PLOTLYENV || {};                                    if (document.getElementById(\"e17e982b-a0ab-4067-91c8-f04fd814169a\")) {                    Plotly.newPlot(                        \"e17e982b-a0ab-4067-91c8-f04fd814169a\",                        [{\"branchvalues\":\"total\",\"domain\":{\"x\":[0.0,1.0],\"y\":[0.0,1.0]},\"hovertemplate\":\"categories=%{label}<br>value=%{value}<br>parent=%{parent}<extra></extra>\",\"labels\":[\"BA\",\"GO\",\"MG\",\"DALINVI_BA\",\"KEYTRUDA_BA\",\"MEDICAMENTOS_BA\",\"OPDIVO_BA\",\"DALINVI_GO\",\"HUMIRA_GO\",\"IMBRUVICA_GO\",\"KEYTRUDA_GO\",\"MEDICAMENTOS_GO\",\"Sess\\u00e3o individual ambulatorial de fonoaudiologia_GO\",\"KEYTRUDA_MG\",\"MEDICAMENTOS_MG\",\"OPDIVO_MG\"],\"name\":\"\",\"parents\":[\"\",\"\",\"\",\"BA\",\"BA\",\"BA\",\"BA\",\"GO\",\"GO\",\"GO\",\"GO\",\"GO\",\"GO\",\"MG\",\"MG\",\"MG\"],\"values\":[167473.081592,69080.507006,22043.336129999996,105120.0,34348.153846,673.427746,27331.5,8453.714286,8339.35,39694.166667,9731.052632,457.677966,2404.545455,12260.545455,589.636829,9193.153846],\"type\":\"sunburst\"}],                        {\"template\":{\"data\":{\"histogram2dcontour\":[{\"type\":\"histogram2dcontour\",\"colorbar\":{\"outlinewidth\":0,\"ticks\":\"\"},\"colorscale\":[[0.0,\"#0d0887\"],[0.1111111111111111,\"#46039f\"],[0.2222222222222222,\"#7201a8\"],[0.3333333333333333,\"#9c179e\"],[0.4444444444444444,\"#bd3786\"],[0.5555555555555556,\"#d8576b\"],[0.6666666666666666,\"#ed7953\"],[0.7777777777777778,\"#fb9f3a\"],[0.8888888888888888,\"#fdca26\"],[1.0,\"#f0f921\"]]}],\"choropleth\":[{\"type\":\"choropleth\",\"colorbar\":{\"outlinewidth\":0,\"ticks\":\"\"}}],\"histogram2d\":[{\"type\":\"histogram2d\",\"colorbar\":{\"outlinewidth\":0,\"ticks\":\"\"},\"colorscale\":[[0.0,\"#0d0887\"],[0.1111111111111111,\"#46039f\"],[0.2222222222222222,\"#7201a8\"],[0.3333333333333333,\"#9c179e\"],[0.4444444444444444,\"#bd3786\"],[0.5555555555555556,\"#d8576b\"],[0.6666666666666666,\"#ed7953\"],[0.7777777777777778,\"#fb9f3a\"],[0.8888888888888888,\"#fdca26\"],[1.0,\"#f0f921\"]]}],\"heatmap\":[{\"type\":\"heatmap\",\"colorbar\":{\"outlinewidth\":0,\"ticks\":\"\"},\"colorscale\":[[0.0,\"#0d0887\"],[0.1111111111111111,\"#46039f\"],[0.2222222222222222,\"#7201a8\"],[0.3333333333333333,\"#9c179e\"],[0.4444444444444444,\"#bd3786\"],[0.5555555555555556,\"#d8576b\"],[0.6666666666666666,\"#ed7953\"],[0.7777777777777778,\"#fb9f3a\"],[0.8888888888888888,\"#fdca26\"],[1.0,\"#f0f921\"]]}],\"heatmapgl\":[{\"type\":\"heatmapgl\",\"colorbar\":{\"outlinewidth\":0,\"ticks\":\"\"},\"colorscale\":[[0.0,\"#0d0887\"],[0.1111111111111111,\"#46039f\"],[0.2222222222222222,\"#7201a8\"],[0.3333333333333333,\"#9c179e\"],[0.4444444444444444,\"#bd3786\"],[0.5555555555555556,\"#d8576b\"],[0.6666666666666666,\"#ed7953\"],[0.7777777777777778,\"#fb9f3a\"],[0.8888888888888888,\"#fdca26\"],[1.0,\"#f0f921\"]]}],\"contourcarpet\":[{\"type\":\"contourcarpet\",\"colorbar\":{\"outlinewidth\":0,\"ticks\":\"\"}}],\"contour\":[{\"type\":\"contour\",\"colorbar\":{\"outlinewidth\":0,\"ticks\":\"\"},\"colorscale\":[[0.0,\"#0d0887\"],[0.1111111111111111,\"#46039f\"],[0.2222222222222222,\"#7201a8\"],[0.3333333333333333,\"#9c179e\"],[0.4444444444444444,\"#bd3786\"],[0.5555555555555556,\"#d8576b\"],[0.6666666666666666,\"#ed7953\"],[0.7777777777777778,\"#fb9f3a\"],[0.8888888888888888,\"#fdca26\"],[1.0,\"#f0f921\"]]}],\"surface\":[{\"type\":\"surface\",\"colorbar\":{\"outlinewidth\":0,\"ticks\":\"\"},\"colorscale\":[[0.0,\"#0d0887\"],[0.1111111111111111,\"#46039f\"],[0.2222222222222222,\"#7201a8\"],[0.3333333333333333,\"#9c179e\"],[0.4444444444444444,\"#bd3786\"],[0.5555555555555556,\"#d8576b\"],[0.6666666666666666,\"#ed7953\"],[0.7777777777777778,\"#fb9f3a\"],[0.8888888888888888,\"#fdca26\"],[1.0,\"#f0f921\"]]}],\"mesh3d\":[{\"type\":\"mesh3d\",\"colorbar\":{\"outlinewidth\":0,\"ticks\":\"\"}}],\"scatter\":[{\"fillpattern\":{\"fillmode\":\"overlay\",\"size\":10,\"solidity\":0.2},\"type\":\"scatter\"}],\"parcoords\":[{\"type\":\"parcoords\",\"line\":{\"colorbar\":{\"outlinewidth\":0,\"ticks\":\"\"}}}],\"scatterpolargl\":[{\"type\":\"scatterpolargl\",\"marker\":{\"colorbar\":{\"outlinewidth\":0,\"ticks\":\"\"}}}],\"bar\":[{\"error_x\":{\"color\":\"#2a3f5f\"},\"error_y\":{\"color\":\"#2a3f5f\"},\"marker\":{\"line\":{\"color\":\"#E5ECF6\",\"width\":0.5},\"pattern\":{\"fillmode\":\"overlay\",\"size\":10,\"solidity\":0.2}},\"type\":\"bar\"}],\"scattergeo\":[{\"type\":\"scattergeo\",\"marker\":{\"colorbar\":{\"outlinewidth\":0,\"ticks\":\"\"}}}],\"scatterpolar\":[{\"type\":\"scatterpolar\",\"marker\":{\"colorbar\":{\"outlinewidth\":0,\"ticks\":\"\"}}}],\"histogram\":[{\"marker\":{\"pattern\":{\"fillmode\":\"overlay\",\"size\":10,\"solidity\":0.2}},\"type\":\"histogram\"}],\"scattergl\":[{\"type\":\"scattergl\",\"marker\":{\"colorbar\":{\"outlinewidth\":0,\"ticks\":\"\"}}}],\"scatter3d\":[{\"type\":\"scatter3d\",\"line\":{\"colorbar\":{\"outlinewidth\":0,\"ticks\":\"\"}},\"marker\":{\"colorbar\":{\"outlinewidth\":0,\"ticks\":\"\"}}}],\"scattermapbox\":[{\"type\":\"scattermapbox\",\"marker\":{\"colorbar\":{\"outlinewidth\":0,\"ticks\":\"\"}}}],\"scatterternary\":[{\"type\":\"scatterternary\",\"marker\":{\"colorbar\":{\"outlinewidth\":0,\"ticks\":\"\"}}}],\"scattercarpet\":[{\"type\":\"scattercarpet\",\"marker\":{\"colorbar\":{\"outlinewidth\":0,\"ticks\":\"\"}}}],\"carpet\":[{\"aaxis\":{\"endlinecolor\":\"#2a3f5f\",\"gridcolor\":\"white\",\"linecolor\":\"white\",\"minorgridcolor\":\"white\",\"startlinecolor\":\"#2a3f5f\"},\"baxis\":{\"endlinecolor\":\"#2a3f5f\",\"gridcolor\":\"white\",\"linecolor\":\"white\",\"minorgridcolor\":\"white\",\"startlinecolor\":\"#2a3f5f\"},\"type\":\"carpet\"}],\"table\":[{\"cells\":{\"fill\":{\"color\":\"#EBF0F8\"},\"line\":{\"color\":\"white\"}},\"header\":{\"fill\":{\"color\":\"#C8D4E3\"},\"line\":{\"color\":\"white\"}},\"type\":\"table\"}],\"barpolar\":[{\"marker\":{\"line\":{\"color\":\"#E5ECF6\",\"width\":0.5},\"pattern\":{\"fillmode\":\"overlay\",\"size\":10,\"solidity\":0.2}},\"type\":\"barpolar\"}],\"pie\":[{\"automargin\":true,\"type\":\"pie\"}]},\"layout\":{\"autotypenumbers\":\"strict\",\"colorway\":[\"#636efa\",\"#EF553B\",\"#00cc96\",\"#ab63fa\",\"#FFA15A\",\"#19d3f3\",\"#FF6692\",\"#B6E880\",\"#FF97FF\",\"#FECB52\"],\"font\":{\"color\":\"#2a3f5f\"},\"hovermode\":\"closest\",\"hoverlabel\":{\"align\":\"left\"},\"paper_bgcolor\":\"white\",\"plot_bgcolor\":\"#E5ECF6\",\"polar\":{\"bgcolor\":\"#E5ECF6\",\"angularaxis\":{\"gridcolor\":\"white\",\"linecolor\":\"white\",\"ticks\":\"\"},\"radialaxis\":{\"gridcolor\":\"white\",\"linecolor\":\"white\",\"ticks\":\"\"}},\"ternary\":{\"bgcolor\":\"#E5ECF6\",\"aaxis\":{\"gridcolor\":\"white\",\"linecolor\":\"white\",\"ticks\":\"\"},\"baxis\":{\"gridcolor\":\"white\",\"linecolor\":\"white\",\"ticks\":\"\"},\"caxis\":{\"gridcolor\":\"white\",\"linecolor\":\"white\",\"ticks\":\"\"}},\"coloraxis\":{\"colorbar\":{\"outlinewidth\":0,\"ticks\":\"\"}},\"colorscale\":{\"sequential\":[[0.0,\"#0d0887\"],[0.1111111111111111,\"#46039f\"],[0.2222222222222222,\"#7201a8\"],[0.3333333333333333,\"#9c179e\"],[0.4444444444444444,\"#bd3786\"],[0.5555555555555556,\"#d8576b\"],[0.6666666666666666,\"#ed7953\"],[0.7777777777777778,\"#fb9f3a\"],[0.8888888888888888,\"#fdca26\"],[1.0,\"#f0f921\"]],\"sequentialminus\":[[0.0,\"#0d0887\"],[0.1111111111111111,\"#46039f\"],[0.2222222222222222,\"#7201a8\"],[0.3333333333333333,\"#9c179e\"],[0.4444444444444444,\"#bd3786\"],[0.5555555555555556,\"#d8576b\"],[0.6666666666666666,\"#ed7953\"],[0.7777777777777778,\"#fb9f3a\"],[0.8888888888888888,\"#fdca26\"],[1.0,\"#f0f921\"]],\"diverging\":[[0,\"#8e0152\"],[0.1,\"#c51b7d\"],[0.2,\"#de77ae\"],[0.3,\"#f1b6da\"],[0.4,\"#fde0ef\"],[0.5,\"#f7f7f7\"],[0.6,\"#e6f5d0\"],[0.7,\"#b8e186\"],[0.8,\"#7fbc41\"],[0.9,\"#4d9221\"],[1,\"#276419\"]]},\"xaxis\":{\"gridcolor\":\"white\",\"linecolor\":\"white\",\"ticks\":\"\",\"title\":{\"standoff\":15},\"zerolinecolor\":\"white\",\"automargin\":true,\"zerolinewidth\":2},\"yaxis\":{\"gridcolor\":\"white\",\"linecolor\":\"white\",\"ticks\":\"\",\"title\":{\"standoff\":15},\"zerolinecolor\":\"white\",\"automargin\":true,\"zerolinewidth\":2},\"scene\":{\"xaxis\":{\"backgroundcolor\":\"#E5ECF6\",\"gridcolor\":\"white\",\"linecolor\":\"white\",\"showbackground\":true,\"ticks\":\"\",\"zerolinecolor\":\"white\",\"gridwidth\":2},\"yaxis\":{\"backgroundcolor\":\"#E5ECF6\",\"gridcolor\":\"white\",\"linecolor\":\"white\",\"showbackground\":true,\"ticks\":\"\",\"zerolinecolor\":\"white\",\"gridwidth\":2},\"zaxis\":{\"backgroundcolor\":\"#E5ECF6\",\"gridcolor\":\"white\",\"linecolor\":\"white\",\"showbackground\":true,\"ticks\":\"\",\"zerolinecolor\":\"white\",\"gridwidth\":2}},\"shapedefaults\":{\"line\":{\"color\":\"#2a3f5f\"}},\"annotationdefaults\":{\"arrowcolor\":\"#2a3f5f\",\"arrowhead\":0,\"arrowwidth\":1},\"geo\":{\"bgcolor\":\"white\",\"landcolor\":\"#E5ECF6\",\"subunitcolor\":\"white\",\"showland\":true,\"showlakes\":true,\"lakecolor\":\"white\"},\"title\":{\"x\":0.05},\"mapbox\":{\"style\":\"light\"}}},\"legend\":{\"tracegroupgap\":0},\"margin\":{\"t\":60}},                        {\"responsive\": true}                    ).then(function(){\n",
       "                            \n",
       "var gd = document.getElementById('e17e982b-a0ab-4067-91c8-f04fd814169a');\n",
       "var x = new MutationObserver(function (mutations, observer) {{\n",
       "        var display = window.getComputedStyle(gd).display;\n",
       "        if (!display || display === 'none') {{\n",
       "            console.log([gd, 'removed!']);\n",
       "            Plotly.purge(gd);\n",
       "            observer.disconnect();\n",
       "        }}\n",
       "}});\n",
       "\n",
       "// Listen for the removal of the full notebook cells\n",
       "var notebookContainer = gd.closest('#notebook-container');\n",
       "if (notebookContainer) {{\n",
       "    x.observe(notebookContainer, {childList: true});\n",
       "}}\n",
       "\n",
       "// Listen for the clearing of the current output cell\n",
       "var outputEl = gd.closest('.output');\n",
       "if (outputEl) {{\n",
       "    x.observe(outputEl, {childList: true});\n",
       "}}\n",
       "\n",
       "                        })                };                });            </script>        </div>"
      ]
     },
     "metadata": {},
     "output_type": "display_data"
    }
   ],
   "source": [
    "import plotly.express as px\n",
    "\n",
    "data = dict(\n",
    "    categories = ['BA', 'GO', 'MG',\n",
    "                  'DALINVI_BA', 'KEYTRUDA_BA', 'MEDICAMENTOS_BA',\"OPDIVO_BA\",\n",
    "                  'DALINVI_GO', 'HUMIRA_GO',\"IMBRUVICA_GO\",\"KEYTRUDA_GO\",\n",
    "                  \"MEDICAMENTOS_GO\",\"Sessão individual ambulatorial de fonoaudiologia_GO\", \n",
    "                  'KEYTRUDA_MG', 'MEDICAMENTOS_MG', 'OPDIVO_MG'],\n",
    "    parent = ['', '', '', 'BA','BA','BA','BA',\n",
    "              'GO','GO','GO','GO','GO','GO',\n",
    "              \"MG\",\"MG\",\"MG\"],\n",
    "    value = [167473.081592,69080.507006,22043.336129999996,105120.000000,34348.153846,673.427746,27331.500000,\n",
    "             8453.714286,8339.350000,\n",
    "             39694.166667,9731.052632,457.677966,2404.545455,12260.545455,589.636829,9193.153846])\n",
    "\n",
    "fig = px.sunburst(data,\n",
    "                  names = 'categories',\n",
    "                  parents = 'parent',\n",
    "                  values = 'value',\n",
    "                  branchvalues = 'total')\n",
    "    \n",
    "fig.show() \n"
   ]
  },
  {
   "cell_type": "markdown",
   "id": "df51af75",
   "metadata": {},
   "source": [
    "## Demografia das Praças"
   ]
  },
  {
   "cell_type": "code",
   "execution_count": 103,
   "id": "1c22a95b",
   "metadata": {},
   "outputs": [
    {
     "data": {
      "text/html": [
       "<div>\n",
       "<style scoped>\n",
       "    .dataframe tbody tr th:only-of-type {\n",
       "        vertical-align: middle;\n",
       "    }\n",
       "\n",
       "    .dataframe tbody tr th {\n",
       "        vertical-align: top;\n",
       "    }\n",
       "\n",
       "    .dataframe thead th {\n",
       "        text-align: right;\n",
       "    }\n",
       "</style>\n",
       "<table border=\"1\" class=\"dataframe\">\n",
       "  <thead>\n",
       "    <tr style=\"text-align: right;\">\n",
       "      <th></th>\n",
       "      <th>TP_SEXO</th>\n",
       "      <th>CD_MUNICIPIO1</th>\n",
       "      <th>DE_FAIXA_ETARIA_REAJ</th>\n",
       "      <th>soma_benef</th>\n",
       "      <th>CD_MUNICIPIO</th>\n",
       "      <th>NM_MUNICIPIO</th>\n",
       "      <th>SG_UF</th>\n",
       "    </tr>\n",
       "  </thead>\n",
       "  <tbody>\n",
       "    <tr>\n",
       "      <th>0</th>\n",
       "      <td>F</td>\n",
       "      <td>521935.0</td>\n",
       "      <td>54 a 58 anos</td>\n",
       "      <td>3.0</td>\n",
       "      <td>521935</td>\n",
       "      <td>Santa Isabel</td>\n",
       "      <td>GO</td>\n",
       "    </tr>\n",
       "    <tr>\n",
       "      <th>1</th>\n",
       "      <td>M</td>\n",
       "      <td>521935.0</td>\n",
       "      <td>59 ou mais</td>\n",
       "      <td>3.0</td>\n",
       "      <td>521935</td>\n",
       "      <td>Santa Isabel</td>\n",
       "      <td>GO</td>\n",
       "    </tr>\n",
       "    <tr>\n",
       "      <th>2</th>\n",
       "      <td>M</td>\n",
       "      <td>521935.0</td>\n",
       "      <td>29 a 33 anos</td>\n",
       "      <td>6.0</td>\n",
       "      <td>521935</td>\n",
       "      <td>Santa Isabel</td>\n",
       "      <td>GO</td>\n",
       "    </tr>\n",
       "    <tr>\n",
       "      <th>3</th>\n",
       "      <td>M</td>\n",
       "      <td>521935.0</td>\n",
       "      <td>44 a 48 anos</td>\n",
       "      <td>7.0</td>\n",
       "      <td>521935</td>\n",
       "      <td>Santa Isabel</td>\n",
       "      <td>GO</td>\n",
       "    </tr>\n",
       "    <tr>\n",
       "      <th>4</th>\n",
       "      <td>F</td>\n",
       "      <td>521935.0</td>\n",
       "      <td>49 a 53 anos</td>\n",
       "      <td>6.0</td>\n",
       "      <td>521935</td>\n",
       "      <td>Santa Isabel</td>\n",
       "      <td>GO</td>\n",
       "    </tr>\n",
       "  </tbody>\n",
       "</table>\n",
       "</div>"
      ],
      "text/plain": [
       "  TP_SEXO  CD_MUNICIPIO1 DE_FAIXA_ETARIA_REAJ  soma_benef  CD_MUNICIPIO  \\\n",
       "0       F       521935.0         54 a 58 anos         3.0        521935   \n",
       "1       M       521935.0           59 ou mais         3.0        521935   \n",
       "2       M       521935.0         29 a 33 anos         6.0        521935   \n",
       "3       M       521935.0         44 a 48 anos         7.0        521935   \n",
       "4       F       521935.0         49 a 53 anos         6.0        521935   \n",
       "\n",
       "   NM_MUNICIPIO SG_UF  \n",
       "0  Santa Isabel    GO  \n",
       "1  Santa Isabel    GO  \n",
       "2  Santa Isabel    GO  \n",
       "3  Santa Isabel    GO  \n",
       "4  Santa Isabel    GO  "
      ]
     },
     "execution_count": 103,
     "metadata": {},
     "output_type": "execute_result"
    }
   ],
   "source": [
    "df_benef.head()"
   ]
  },
  {
   "cell_type": "code",
   "execution_count": 171,
   "id": "140b7f0b",
   "metadata": {},
   "outputs": [
    {
     "data": {
      "image/png": "[encoded data removed]",
      "text/plain": [
       "<Figure size 1000x600 with 1 Axes>"
      ]
     },
     "metadata": {},
     "output_type": "display_data"
    }
   ],
   "source": [
    "df_grouped = df_benef.groupby(['TP_SEXO', 'SG_UF'])['soma_benef'].sum().reset_index()\n",
    "df_grouped = df_grouped.sort_values(['SG_UF', 'TP_SEXO'], ascending=[True, True])\n",
    "\n",
    "df_pivot = df_grouped.pivot_table(index='SG_UF', columns='TP_SEXO', values='soma_benef', fill_value=0)\n",
    "\n",
    "# Criar o gráfico de barras empilhadas\n",
    "ax = df_pivot.plot(kind='bar', stacked=True, figsize=(10, 6))\n",
    "\n",
    "# Definir os rótulos do eixo X (UFs)\n",
    "ax.set_xticklabels(df_pivot.index, rotation=0)\n",
    "\n",
    "# Definir o título e rótulos dos eixos\n",
    "plt.title('Distribuição de Beneficiários')\n",
    "plt.xlabel('UF')\n",
    "plt.ylabel('Valor')\n",
    "\n",
    "# Mostrar o gráfico\n",
    "plt.legend(title='Gênero')\n",
    "plt.show()\n"
   ]
  },
  {
   "cell_type": "code",
   "execution_count": 160,
   "id": "7b8108a5",
   "metadata": {},
   "outputs": [
    {
     "data": {
      "text/html": [
       "<div>\n",
       "<style scoped>\n",
       "    .dataframe tbody tr th:only-of-type {\n",
       "        vertical-align: middle;\n",
       "    }\n",
       "\n",
       "    .dataframe tbody tr th {\n",
       "        vertical-align: top;\n",
       "    }\n",
       "\n",
       "    .dataframe thead th {\n",
       "        text-align: right;\n",
       "    }\n",
       "</style>\n",
       "<table border=\"1\" class=\"dataframe\">\n",
       "  <thead>\n",
       "    <tr style=\"text-align: right;\">\n",
       "      <th></th>\n",
       "      <th>CD_MUNICIPIO1</th>\n",
       "      <th>DE_CLAS_ESTB_SAUDE</th>\n",
       "      <th>contagem_classe</th>\n",
       "      <th>CD_MUNICIPIO</th>\n",
       "      <th>NM_MUNICIPIO</th>\n",
       "      <th>SG_UF</th>\n",
       "    </tr>\n",
       "  </thead>\n",
       "  <tbody>\n",
       "    <tr>\n",
       "      <th>0</th>\n",
       "      <td>521935</td>\n",
       "      <td>Demais Estabelecimentos</td>\n",
       "      <td>7</td>\n",
       "      <td>521935</td>\n",
       "      <td>Santa Isabel</td>\n",
       "      <td>GO</td>\n",
       "    </tr>\n",
       "    <tr>\n",
       "      <th>1</th>\n",
       "      <td>311710</td>\n",
       "      <td>Demais Estabelecimentos</td>\n",
       "      <td>283</td>\n",
       "      <td>311710</td>\n",
       "      <td>Conceição Da Aparecida</td>\n",
       "      <td>MG</td>\n",
       "    </tr>\n",
       "    <tr>\n",
       "      <th>2</th>\n",
       "      <td>311710</td>\n",
       "      <td>Serviços de Alta Complexidade</td>\n",
       "      <td>123</td>\n",
       "      <td>311710</td>\n",
       "      <td>Conceição Da Aparecida</td>\n",
       "      <td>MG</td>\n",
       "    </tr>\n",
       "    <tr>\n",
       "      <th>3</th>\n",
       "      <td>312380</td>\n",
       "      <td>Demais Estabelecimentos</td>\n",
       "      <td>9</td>\n",
       "      <td>312380</td>\n",
       "      <td>Engenheiro Navarro</td>\n",
       "      <td>MG</td>\n",
       "    </tr>\n",
       "    <tr>\n",
       "      <th>4</th>\n",
       "      <td>310950</td>\n",
       "      <td>Serviços de Alta Complexidade</td>\n",
       "      <td>1</td>\n",
       "      <td>310950</td>\n",
       "      <td>Cabo Verde</td>\n",
       "      <td>MG</td>\n",
       "    </tr>\n",
       "  </tbody>\n",
       "</table>\n",
       "</div>"
      ],
      "text/plain": [
       "   CD_MUNICIPIO1             DE_CLAS_ESTB_SAUDE  contagem_classe  \\\n",
       "0         521935        Demais Estabelecimentos                7   \n",
       "1         311710        Demais Estabelecimentos              283   \n",
       "2         311710  Serviços de Alta Complexidade              123   \n",
       "3         312380        Demais Estabelecimentos                9   \n",
       "4         310950  Serviços de Alta Complexidade                1   \n",
       "\n",
       "   CD_MUNICIPIO            NM_MUNICIPIO SG_UF  \n",
       "0        521935            Santa Isabel    GO  \n",
       "1        311710  Conceição Da Aparecida    MG  \n",
       "2        311710  Conceição Da Aparecida    MG  \n",
       "3        312380      Engenheiro Navarro    MG  \n",
       "4        310950              Cabo Verde    MG  "
      ]
     },
     "execution_count": 160,
     "metadata": {},
     "output_type": "execute_result"
    }
   ],
   "source": [
    "df_cred.head()"
   ]
  },
  {
   "cell_type": "code",
   "execution_count": 167,
   "id": "25871751",
   "metadata": {},
   "outputs": [
    {
     "name": "stdout",
     "output_type": "stream",
     "text": [
      "              DE_CLAS_ESTB_SAUDE SG_UF  contagem_classe\n",
      "0        Demais Estabelecimentos    BA           494998\n",
      "3  Serviços de Alta Complexidade    BA            34266\n",
      "1        Demais Estabelecimentos    GO           842908\n",
      "4  Serviços de Alta Complexidade    GO             7521\n",
      "2        Demais Estabelecimentos    MG          3861500\n",
      "5  Serviços de Alta Complexidade    MG            96415\n"
     ]
    },
    {
     "data": {
      "image/png": "[encoded data removed]",
      "text/plain": [
       "<Figure size 1000x600 with 1 Axes>"
      ]
     },
     "metadata": {},
     "output_type": "display_data"
    }
   ],
   "source": [
    "df_grouped = df_cred.groupby(['DE_CLAS_ESTB_SAUDE', 'SG_UF'])['contagem_classe'].sum().reset_index()\n",
    "df_grouped = df_grouped.sort_values(['SG_UF', 'DE_CLAS_ESTB_SAUDE'], ascending=[True, True])\n",
    "\n",
    "print(df_grouped)\n",
    "df_pivot = df_grouped.pivot_table(index='SG_UF', columns='DE_CLAS_ESTB_SAUDE', values='contagem_classe', fill_value=0)\n",
    "\n",
    "# Criar o gráfico de barras empilhadas\n",
    "ax = df_pivot.plot(kind='bar', stacked=True, figsize=(10, 6))\n",
    "\n",
    "# Definir os rótulos do eixo X (UFs)\n",
    "ax.set_xticklabels(df_pivot.index, rotation=0)\n",
    "\n",
    "# Definir o título e rótulos dos eixos\n",
    "plt.title('Demografia da Região')\n",
    "plt.xlabel('UF')\n",
    "plt.ylabel('Valor')\n",
    "\n",
    "# Mostrar o gráfico\n",
    "plt.legend(title='Classe de estabelecimento')\n",
    "plt.show()\n"
   ]
  },
  {
   "cell_type": "code",
   "execution_count": 168,
   "id": "7ea6522a",
   "metadata": {},
   "outputs": [
    {
     "data": {
      "text/html": [
       "<div>\n",
       "<style scoped>\n",
       "    .dataframe tbody tr th:only-of-type {\n",
       "        vertical-align: middle;\n",
       "    }\n",
       "\n",
       "    .dataframe tbody tr th {\n",
       "        vertical-align: top;\n",
       "    }\n",
       "\n",
       "    .dataframe thead th {\n",
       "        text-align: right;\n",
       "    }\n",
       "</style>\n",
       "<table border=\"1\" class=\"dataframe\">\n",
       "  <thead>\n",
       "    <tr style=\"text-align: right;\">\n",
       "      <th></th>\n",
       "      <th>NM_OPERADORA</th>\n",
       "      <th>CD_MUNICIPIO1</th>\n",
       "      <th>CD_MUNICIPIO</th>\n",
       "      <th>NM_MUNICIPIO</th>\n",
       "      <th>SG_UF</th>\n",
       "    </tr>\n",
       "  </thead>\n",
       "  <tbody>\n",
       "    <tr>\n",
       "      <th>0</th>\n",
       "      <td>MEDISERVICE</td>\n",
       "      <td>521935</td>\n",
       "      <td>521935</td>\n",
       "      <td>Santa Isabel</td>\n",
       "      <td>GO</td>\n",
       "    </tr>\n",
       "    <tr>\n",
       "      <th>1</th>\n",
       "      <td>UNIMED FEDERAÇAO DO ESTADO DO MATO GROSSO</td>\n",
       "      <td>521935</td>\n",
       "      <td>521935</td>\n",
       "      <td>Santa Isabel</td>\n",
       "      <td>GO</td>\n",
       "    </tr>\n",
       "    <tr>\n",
       "      <th>2</th>\n",
       "      <td>UNIMED CÁCERES</td>\n",
       "      <td>521935</td>\n",
       "      <td>521935</td>\n",
       "      <td>Santa Isabel</td>\n",
       "      <td>GO</td>\n",
       "    </tr>\n",
       "    <tr>\n",
       "      <th>3</th>\n",
       "      <td>PORTO SEGURO SAÚDE</td>\n",
       "      <td>521935</td>\n",
       "      <td>521935</td>\n",
       "      <td>Santa Isabel</td>\n",
       "      <td>GO</td>\n",
       "    </tr>\n",
       "    <tr>\n",
       "      <th>4</th>\n",
       "      <td>HAPVIDA</td>\n",
       "      <td>521890</td>\n",
       "      <td>521890</td>\n",
       "      <td>Rubiataba</td>\n",
       "      <td>GO</td>\n",
       "    </tr>\n",
       "  </tbody>\n",
       "</table>\n",
       "</div>"
      ],
      "text/plain": [
       "                                NM_OPERADORA  CD_MUNICIPIO1  CD_MUNICIPIO  \\\n",
       "0                                MEDISERVICE         521935        521935   \n",
       "1  UNIMED FEDERAÇAO DO ESTADO DO MATO GROSSO         521935        521935   \n",
       "2                             UNIMED CÁCERES         521935        521935   \n",
       "3                         PORTO SEGURO SAÚDE         521935        521935   \n",
       "4                                    HAPVIDA         521890        521890   \n",
       "\n",
       "   NM_MUNICIPIO SG_UF  \n",
       "0  Santa Isabel    GO  \n",
       "1  Santa Isabel    GO  \n",
       "2  Santa Isabel    GO  \n",
       "3  Santa Isabel    GO  \n",
       "4     Rubiataba    GO  "
      ]
     },
     "execution_count": 168,
     "metadata": {},
     "output_type": "execute_result"
    }
   ],
   "source": [
    "df_operadora.head()"
   ]
  }
 ],
 "metadata": {
  "kernelspec": {
   "display_name": "Python 3 (ipykernel)",
   "language": "python",
   "name": "python3"
  },
  "language_info": {
   "codemirror_mode": {
    "name": "ipython",
    "version": 3
   },
   "file_extension": ".py",
   "mimetype": "text/x-python",
   "name": "python",
   "nbconvert_exporter": "python",
   "pygments_lexer": "ipython3",
   "version": "3.11.5"
  }
 },
 "nbformat": 4,
 "nbformat_minor": 5
}
