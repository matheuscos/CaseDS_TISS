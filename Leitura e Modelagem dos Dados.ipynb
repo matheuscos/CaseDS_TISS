{
 "cells": [
  {
   "cell_type": "markdown",
   "id": "edd9fb51",
   "metadata": {},
   "source": [
    "# Script de Modelagem dos Dados"
   ]
  },
  {
   "cell_type": "markdown",
   "id": "99f2d13d",
   "metadata": {},
   "source": [
    "Matheus Costa e Silva - 24 de outubro de 2023"
   ]
  },
  {
   "cell_type": "markdown",
   "id": "d8f58d6f",
   "metadata": {},
   "source": [
    "## Preparação de ambiente"
   ]
  },
  {
   "cell_type": "code",
   "execution_count": 1,
   "id": "ae51959c",
   "metadata": {},
   "outputs": [
    {
     "name": "stderr",
     "output_type": "stream",
     "text": [
      "23/10/24 23:50:23 WARN Utils: Your hostname, teste.local resolves to a loopback address: 127.0.0.1; using 192.168.0.68 instead (on interface en0)\n",
      "23/10/24 23:50:23 WARN Utils: Set SPARK_LOCAL_IP if you need to bind to another address\n",
      "Setting default log level to \"WARN\".\n",
      "To adjust logging level use sc.setLogLevel(newLevel). For SparkR, use setLogLevel(newLevel).\n",
      "23/10/24 23:50:23 WARN NativeCodeLoader: Unable to load native-hadoop library for your platform... using builtin-java classes where applicable\n"
     ]
    }
   ],
   "source": [
    "import os\n",
    "import sys\n",
    "import re\n",
    "import zipfile\n",
    "import tempfile\n",
    "import io\n",
    "import requests\n",
    "from functools import reduce\n",
    "from pyspark.sql import DataFrame, SparkSession\n",
    "from pyspark.sql.types import StructType,StructField, StringType\n",
    "from pyspark.sql.functions import sum,avg,max, lit\n",
    "import pyspark.sql.functions as func,rank, col\n",
    "from bs4 import BeautifulSoup\n",
    "from pyspark.sql.window import Window\n",
    "\n",
    "\n",
    "#Create SparkSession\n",
    "spark = SparkSession.builder.appName('Daiichi').getOrCreate()"
   ]
  },
  {
   "cell_type": "markdown",
   "id": "f1539006",
   "metadata": {},
   "source": [
    "## Download da base de dados TISS Ambulatorial"
   ]
  },
  {
   "cell_type": "markdown",
   "id": "6dbc0368",
   "metadata": {},
   "source": [
    "### Base de dados TISS Detalhe"
   ]
  },
  {
   "cell_type": "markdown",
   "id": "91179fa3",
   "metadata": {},
   "source": [
    "Para fins de otimização de computação e armazenamento, optou-se por baixar somente a competência de dezembro do ano de 2022 para os seguintes estados: Goiás, Bahia e Minas Gerais"
   ]
  },
  {
   "cell_type": "code",
   "execution_count": 2,
   "id": "6e9cd715",
   "metadata": {},
   "outputs": [
    {
     "name": "stderr",
     "output_type": "stream",
     "text": [
      "23/10/24 23:50:25 WARN SparkSession: Using an existing Spark session; only runtime SQL configurations will take effect.\n"
     ]
    },
    {
     "name": "stdout",
     "output_type": "stream",
     "text": [
      "/Users/matheuscosta/Untitled Folder/GO/2022/DET\n"
     ]
    },
    {
     "name": "stderr",
     "output_type": "stream",
     "text": [
      "                                                                                \r"
     ]
    },
    {
     "name": "stdout",
     "output_type": "stream",
     "text": [
      "/Users/matheuscosta/Untitled Folder/MG/2022/DET\n"
     ]
    },
    {
     "name": "stderr",
     "output_type": "stream",
     "text": [
      "                                                                                \r"
     ]
    },
    {
     "name": "stdout",
     "output_type": "stream",
     "text": [
      "/Users/matheuscosta/Untitled Folder/BA/2022/DET\n"
     ]
    },
    {
     "name": "stderr",
     "output_type": "stream",
     "text": [
      "[Stage 8:======>                                                    (1 + 8) / 9]\r"
     ]
    },
    {
     "name": "stdout",
     "output_type": "stream",
     "text": [
      "(14530030, 12)\n"
     ]
    },
    {
     "name": "stderr",
     "output_type": "stream",
     "text": [
      "\r",
      "[Stage 8:====================================================>      (8 + 1) / 9]\r",
      "\r",
      "                                                                                \r"
     ]
    }
   ],
   "source": [
    "from pyspark.sql.functions import input_file_name\n",
    "import os\n",
    "\n",
    "# Inicie uma sessão do Spark\n",
    "spark = SparkSession.builder.appName(\"Leitura de CSV\").getOrCreate()\n",
    "\n",
    "# Diretório raiz onde estão as pastas das UF's\n",
    "diretorio_raiz = \"/Users/matheuscosta/Untitled Folder/\"\n",
    "\n",
    "# Anos que você deseja processar\n",
    "anos = [\"2022\"]\n",
    "\n",
    "# Lista para armazenar os DataFrames de todas as UF's\n",
    "dfs_ufs = []\n",
    "\n",
    "# Loop através das UF's\n",
    "aux = os.listdir(diretorio_raiz)\n",
    "ufs = [\"GO\",\"MG\",\"BA\"]\n",
    "for uf in ufs:\n",
    "    for ano in anos:\n",
    "        # Construa o caminho para o arquivo CSV \"CONS\" da UF e ano\n",
    "        caminho_arquivo = os.path.join(diretorio_raiz, uf, ano, \"DET\")\n",
    "\n",
    "        # Verifique se o arquivo existe antes de ler\n",
    "        print(caminho_arquivo)\n",
    "        df = spark.read.options(delimiter=',').csv(caminho_arquivo, header=True, inferSchema=True)\n",
    "        df=df.withColumn(\"UF_Det\", lit(uf))\n",
    "        df=df.withColumn(\"ANO\", lit(ano))\n",
    "        dfs_ufs.append(df)\n",
    "\n",
    "\n",
    "df_DET = dfs_ufs[0]\n",
    "for df in dfs_ufs[1:]:\n",
    "    df_DET = df_DET.union(df).distinct()\n",
    "\n",
    "# Mostre o conteúdo lido\n",
    "#df_total.show()\n",
    "print((df_DET.count(), len(df_DET.columns)))"
   ]
  },
  {
   "cell_type": "markdown",
   "id": "3b04056b",
   "metadata": {},
   "source": [
    "### Base de dados TISS Consolidada"
   ]
  },
  {
   "cell_type": "code",
   "execution_count": 3,
   "id": "dc5c1827",
   "metadata": {},
   "outputs": [
    {
     "name": "stdout",
     "output_type": "stream",
     "text": [
      "/Users/matheuscosta/Untitled Folder/GO/2022/CONS\n"
     ]
    },
    {
     "name": "stderr",
     "output_type": "stream",
     "text": [
      "\r",
      "[Stage 13:=======>                                                  (1 + 7) / 8]\r",
      "\r",
      "                                                                                \r"
     ]
    },
    {
     "name": "stdout",
     "output_type": "stream",
     "text": [
      "/Users/matheuscosta/Untitled Folder/MG/2022/CONS\n"
     ]
    },
    {
     "name": "stderr",
     "output_type": "stream",
     "text": [
      "                                                                                \r"
     ]
    },
    {
     "name": "stdout",
     "output_type": "stream",
     "text": [
      "/Users/matheuscosta/Untitled Folder/BA/2022/CONS\n"
     ]
    },
    {
     "name": "stderr",
     "output_type": "stream",
     "text": [
      "[Stage 29:>                                                         (0 + 8) / 9]\r"
     ]
    },
    {
     "name": "stdout",
     "output_type": "stream",
     "text": [
      "(7233013, 20)\n"
     ]
    },
    {
     "name": "stderr",
     "output_type": "stream",
     "text": [
      "\r",
      "[Stage 29:===================================================>      (8 + 1) / 9]\r",
      "\r",
      "                                                                                \r"
     ]
    }
   ],
   "source": [
    "from pyspark.sql.functions import input_file_name\n",
    "import os\n",
    "\n",
    "# Inicie uma sessão do Spark\n",
    "spark = SparkSession.builder.appName(\"Leitura de CSV\").getOrCreate()\n",
    "\n",
    "# Diretório raiz onde estão as pastas das UF's\n",
    "diretorio_raiz = \"/Users/matheuscosta/Untitled Folder/\"\n",
    "\n",
    "# Anos que você deseja processar\n",
    "anos = [\"2022\"]\n",
    "\n",
    "# Lista para armazenar os DataFrames de todas as UF's\n",
    "dfs_ufs = []\n",
    "\n",
    "# Loop através das UF's\n",
    "aux = os.listdir(diretorio_raiz)\n",
    "ufs = [\"GO\",\"MG\",\"BA\"]\n",
    "for uf in ufs:\n",
    "    for ano in anos:\n",
    "        # Construa o caminho para o arquivo CSV \"CONS\" da UF e ano\n",
    "        caminho_arquivo = os.path.join(diretorio_raiz, uf, ano, \"CONS\")\n",
    "\n",
    "        # Verifique se o arquivo existe antes de ler\n",
    "        print(caminho_arquivo)\n",
    "        df = spark.read.options(delimiter=',').csv(caminho_arquivo, header=True, inferSchema=True)\n",
    "        df=df.withColumn(\"UF_Cons\", lit(uf))\n",
    "        df=df.withColumn(\"ANO\", lit(ano))\n",
    "        dfs_ufs.append(df)\n",
    "        num_linhas = df.count()\n",
    "\n",
    "# Número de colunas\n",
    "        num_colunas = len(df.columns)\n",
    "\n",
    "# Exibindo as dimensões\n",
    "        #print(f\"Número de linhas: {num_linhas}\")\n",
    "        #print(f\"Número de colunas: {num_colunas}\")\n",
    "        #df.show()\n",
    "        \n",
    "\n",
    "df_CONS = dfs_ufs[0]\n",
    "for df in dfs_ufs[1:]:\n",
    "    df_CONS = df_CONS.union(df).distinct()\n",
    "\n",
    "# Mostre o conteúdo lido\n",
    "#df_total.show()\n",
    "print((df_CONS.count(), len(df_CONS.columns)))"
   ]
  },
  {
   "cell_type": "markdown",
   "id": "96d026af",
   "metadata": {},
   "source": [
    "### Base de dados TISS Planos de Saúde"
   ]
  },
  {
   "cell_type": "code",
   "execution_count": 4,
   "id": "24dc6e59",
   "metadata": {},
   "outputs": [],
   "source": [
    "df_planos = spark.read.options(delimiter=',').csv(\"BRFULLTOTAL\", header=True, inferSchema=True)"
   ]
  },
  {
   "cell_type": "markdown",
   "id": "895705c6",
   "metadata": {},
   "source": [
    "## Base de dados Beneficiários Consolidada"
   ]
  },
  {
   "cell_type": "code",
   "execution_count": 5,
   "id": "56484cce",
   "metadata": {},
   "outputs": [
    {
     "name": "stdout",
     "output_type": "stream",
     "text": [
      "GO\n",
      "202212\n",
      "/Users/matheuscosta/Untitled Folder/GO202212TOTAL\n",
      "MG\n",
      "202212\n",
      "/Users/matheuscosta/Untitled Folder/MG202212TOTAL\n"
     ]
    },
    {
     "name": "stderr",
     "output_type": "stream",
     "text": [
      "                                                                                \r"
     ]
    },
    {
     "name": "stdout",
     "output_type": "stream",
     "text": [
      "BA\n",
      "202212\n",
      "/Users/matheuscosta/Untitled Folder/BA202212TOTAL\n"
     ]
    },
    {
     "name": "stderr",
     "output_type": "stream",
     "text": [
      "[Stage 43:>                                                         (0 + 8) / 9]\r"
     ]
    },
    {
     "name": "stdout",
     "output_type": "stream",
     "text": [
      "(3050774, 24)\n"
     ]
    },
    {
     "name": "stderr",
     "output_type": "stream",
     "text": [
      "\r",
      "                                                                                \r"
     ]
    }
   ],
   "source": [
    "from pyspark.sql.functions import input_file_name\n",
    "import os\n",
    "\n",
    "# Inicie uma sessão do Spark\n",
    "spark = SparkSession.builder.appName(\"Leitura de CSV\").getOrCreate()\n",
    "\n",
    "# Diretório raiz onde estão as pastas das UF's\n",
    "diretorio_raiz = \"/Users/matheuscosta/Untitled Folder/\"\n",
    "\n",
    "# Anos que você deseja processar\n",
    "anos = [\"202212\"]\n",
    "\n",
    "# Lista para armazenar os DataFrames de todas as UF's\n",
    "dfs_ufs = []\n",
    "\n",
    "# Loop através das UF's\n",
    "aux = os.listdir(diretorio_raiz)\n",
    "ufs = [\"GO\",\"MG\",\"BA\"]\n",
    "for uf in ufs:\n",
    "    for ano in anos:\n",
    "        print(uf)\n",
    "        print(ano)\n",
    "        # Construa o caminho para o arquivo CSV \"CONS\" da UF e ano\n",
    "        caminho_arquivo = diretorio_raiz+uf+ano+\"TOTAL\"\n",
    "        # Verifique se o arquivo existe antes de ler\n",
    "        print(caminho_arquivo)\n",
    "        df = spark.read.options(delimiter=',').csv(caminho_arquivo, header=True, inferSchema=True)\n",
    "        df=df.withColumn(\"UF_Ben\", lit(uf))\n",
    "        df=df.withColumn(\"ANO\", lit(ano))\n",
    "        dfs_ufs.append(df)\n",
    "\n",
    "\n",
    "df_BEN = dfs_ufs[0]\n",
    "for df in dfs_ufs[1:]:\n",
    "    df_BEN = df_BEN.union(df).distinct()\n",
    "\n",
    "# Mostre o conteúdo lido\n",
    "#df_total.show()\n",
    "print((df_BEN.count(), len(df_BEN.columns)))"
   ]
  },
  {
   "cell_type": "markdown",
   "id": "c1ab1baf",
   "metadata": {},
   "source": [
    "## Base de dados TUSS"
   ]
  },
  {
   "cell_type": "markdown",
   "id": "87aa2c8f",
   "metadata": {},
   "source": [
    "### Utilizada para normalização e acesso de referencia de procedimentos realizados"
   ]
  },
  {
   "cell_type": "code",
   "execution_count": 6,
   "id": "6cd9488d",
   "metadata": {},
   "outputs": [],
   "source": [
    "df_19 = spark.read.options(delimiter=';').csv(\"/Users/matheuscosta/Untitled Folder/TUSS/Tabela_19*.csv\", header=True, inferSchema=True).select(\"Código do Termo\",\"Termo\")\n",
    "df_20 = spark.read.options(delimiter=';').csv(\"/Users/matheuscosta/Untitled Folder/TUSS/Tabela_20*.csv\", header=True, inferSchema=True).select(\"Código do Termo\",\"Termo\")\n",
    "df_22 = spark.read.options(delimiter=';').csv(\"/Users/matheuscosta/Untitled Folder/TUSS/Tabela_22*.csv\", header=True, inferSchema=True).select(\"Código do Termo\",\"Termo\")\n",
    "df_63 = spark.read.options(delimiter=';').csv(\"/Users/matheuscosta/Untitled Folder/TUSS/Tabela_63*.csv\", header=True, inferSchema=True).select(\"Código\",\"Grupo\")\n",
    "\n",
    "df_63 = df_63.withColumnRenamed(\"Código\",\"Código do Termo\")\n",
    "df_63 = df_63.withColumnRenamed(\"Grupo\",\"Termo\")\n",
    "\n",
    "dfs = [df_19,df_20,df_22,df_63]\n",
    "df_tuss_proc = reduce(DataFrame.unionAll, dfs).dropDuplicates()\n",
    "df_tuss_proc = df_tuss_proc.withColumnRenamed(\"Código do Termo\",\"codTUSS\")\n",
    "#print((df_tuss_proc.count(), len(df_tuss_proc.columns)))\n",
    "\n",
    "df_carater_atendimento = spark.read.options(delimiter=';').csv(\"/Users/matheuscosta/Untitled Folder/TUSS/Tabela_23*.csv\", header=True, inferSchema=True).select(\"Código do Termo\",\"Termo\")\n",
    "df_carater_atendimento = df_carater_atendimento.withColumnRenamed(\"Código do Termo\",\"codTUSS\")\n",
    "\n",
    "df_tipo_atendimento = spark.read.options(delimiter=';').csv(\"/Users/matheuscosta/Untitled Folder/TUSS/Tabela_50*.csv\", header=True, inferSchema=True).select(\"Código do Termo\",\"Termo\")\n",
    "df_tipo_atendimento = df_tipo_atendimento.withColumnRenamed(\"Código do Termo\",\"codTUSS\")\n",
    "\n",
    "df_cbo = spark.read.options(delimiter=';').csv(\"/Users/matheuscosta/Untitled Folder/TUSS/Tabela_24*.csv\", header=True, inferSchema=True).select(\"Código do Termo\",\"Termo\")\n",
    "df_cbo = df_cbo.withColumnRenamed(\"Código do Termo\",\"codTUSS\")\n",
    "\n",
    "df_tipo_consulta = spark.read.options(delimiter=';').csv(\"/Users/matheuscosta/Untitled Folder/TUSS/Tabela_52*.csv\", header=True, inferSchema=True).select(\"Código do Termo\",\"Termo\")\n",
    "df_tipo_consulta = df_tipo_consulta.withColumnRenamed(\"Código do Termo\",\"codTUSS\")\n",
    "\n",
    "df_tipo_acidente = spark.read.options(delimiter=';').csv(\"/Users/matheuscosta/Untitled Folder/TUSS/Tabela_36*.csv\", header=True, inferSchema=True).select(\"Código do Termo\",\"Termo\")\n",
    "df_tipo_acidente = df_tipo_acidente.withColumnRenamed(\"Código do Termo\",\"codTUSS\")"
   ]
  },
  {
   "cell_type": "markdown",
   "id": "c43eb9cf",
   "metadata": {},
   "source": [
    "## Base de dados Rede Credenciada"
   ]
  },
  {
   "cell_type": "code",
   "execution_count": 7,
   "id": "34141a75",
   "metadata": {},
   "outputs": [
    {
     "name": "stderr",
     "output_type": "stream",
     "text": [
      "[Stage 71:===================================>                    (16 + 8) / 25]\r"
     ]
    },
    {
     "name": "stdout",
     "output_type": "stream",
     "text": [
      "(5902330, 20)\n"
     ]
    },
    {
     "name": "stderr",
     "output_type": "stream",
     "text": [
      "\r",
      "[Stage 71:=====================================================>  (24 + 1) / 25]\r",
      "\r",
      "                                                                                \r"
     ]
    }
   ],
   "source": [
    "df_GO = spark.read.options(delimiter=';').csv(\"/Users/matheuscosta/Untitled Folder/prestador_amb/*GO.csv\", header=True, inferSchema=True)\n",
    "df_MG = spark.read.options(delimiter=';').csv(\"/Users/matheuscosta/Untitled Folder/prestador_amb/*MG.csv\", header=True, inferSchema=True)\n",
    "df_BA = spark.read.options(delimiter=';').csv(\"/Users/matheuscosta/Untitled Folder/prestador_amb/*BA.csv\", header=True, inferSchema=True)\n",
    "\n",
    "dfs = [df_GO,df_MG,df_BA]\n",
    "\n",
    "df_prestador_amb = reduce(DataFrame.unionAll, dfs)\n",
    "\n",
    "print((df_prestador_amb.count(), len(df_prestador_amb.columns)))"
   ]
  },
  {
   "cell_type": "markdown",
   "id": "3c219e57",
   "metadata": {},
   "source": [
    "# Base de dados Disponível para análise"
   ]
  },
  {
   "cell_type": "code",
   "execution_count": null,
   "id": "433137ad",
   "metadata": {},
   "outputs": [],
   "source": [
    "df_DET #evento detalhado Ambulatorial\n",
    "df_CONS #evento consolidado Ambulatorial\n",
    "df_planos #descrição plano de saúde\n",
    "\n",
    "df_BEN #descrição consolidada de beneficiários\n",
    "\n",
    "TUSS\n",
    "df_tuss_proc #padronização de dados para procedimentos \n",
    "\n",
    "df_carater_atendimento #padronização de carater do atendimento\n",
    "df_tipo_atendimento #padronização de tipo do atendimento\n",
    "df_cbo #padronização de ocupação trabalhista\n",
    "df_tipo_consulta #padronização tipo de consulta\n",
    "df_tipo_acidente #padronização tipo de acidente\n",
    "\n",
    "df_prestador_amb #descrição de rede de prestadores não hospitalares\n"
   ]
  },
  {
   "cell_type": "code",
   "execution_count": 9,
   "id": "3b558bce",
   "metadata": {},
   "outputs": [
    {
     "name": "stdout",
     "output_type": "stream",
     "text": [
      "root\n",
      " |-- CD_OPERADORA: integer (nullable = true)\n",
      " |-- NM_OPERADORA: string (nullable = true)\n",
      " |-- GR_MODALIDADE: string (nullable = true)\n",
      " |-- ID_ESTABELECIMENTO_SAUDE: integer (nullable = true)\n",
      " |-- CD_CNPJ_ESTB_SAUDE: long (nullable = true)\n",
      " |-- CD_CNES: integer (nullable = true)\n",
      " |-- NM_ESTABELECIMENTO_SAUDE: string (nullable = true)\n",
      " |-- DE_CLAS_ESTB_SAUDE: string (nullable = true)\n",
      " |-- DE_TIPO_PRESTADOR: string (nullable = true)\n",
      " |-- LG_URGENCIA_EMERGENCIA: integer (nullable = true)\n",
      " |-- DE_TIPO_CONTRATO: string (nullable = true)\n",
      " |-- DE_DISPONIBILIDADE: string (nullable = true)\n",
      " |-- CD_MUNICIPIO: integer (nullable = true)\n",
      " |-- NM_MUNICIPIO: string (nullable = true)\n",
      " |-- SG_UF: string (nullable = true)\n",
      " |-- NM_REGIAO: string (nullable = true)\n",
      " |-- DT_VINCULO_OPERADORA_INICIO: date (nullable = true)\n",
      " |-- DT_VINCULO_OPERADORA_FIM: date (nullable = true)\n",
      " |-- COMPETENCIA: integer (nullable = true)\n",
      " |-- DT_ATUALIZACAO: date (nullable = true)\n",
      "\n"
     ]
    }
   ],
   "source": [
    "df_prestador_amb.printSchema()"
   ]
  },
  {
   "cell_type": "markdown",
   "id": "4ba08d8c",
   "metadata": {},
   "source": [
    "# Modelagem de indicadores"
   ]
  },
  {
   "cell_type": "markdown",
   "id": "b31c0d96",
   "metadata": {},
   "source": [
    "## Tabelas Auxiliares"
   ]
  },
  {
   "cell_type": "code",
   "execution_count": 10,
   "id": "29b41cc8",
   "metadata": {},
   "outputs": [
    {
     "name": "stdout",
     "output_type": "stream",
     "text": [
      "root\n",
      " |-- CD_MUNICIPIO: integer (nullable = true)\n",
      " |-- NM_MUNICIPIO: string (nullable = true)\n",
      " |-- SG_UF: string (nullable = true)\n",
      "\n",
      "root\n",
      " |-- CD_OPERADORA: integer (nullable = true)\n",
      " |-- NM_OPERADORA: string (nullable = true)\n",
      " |-- CD_MUNICIPIO: integer (nullable = true)\n",
      " |-- GR_MODALIDADE: string (nullable = true)\n",
      " |-- DE_CLAS_ESTB_SAUDE: string (nullable = true)\n",
      " |-- NM_ESTABELECIMENTO_SAUDE: string (nullable = true)\n",
      "\n"
     ]
    }
   ],
   "source": [
    "df_regiao=df_prestador_amb.select(\"CD_MUNICIPIO\",\"NM_MUNICIPIO\",\"SG_UF\").distinct()\n",
    "\n",
    "df_cred=df_prestador_amb.select(\"CD_OPERADORA\",\"NM_OPERADORA\",\"CD_MUNICIPIO\",\n",
    "                                \"GR_MODALIDADE\",\"DE_CLAS_ESTB_SAUDE\",\"NM_ESTABELECIMENTO_SAUDE\").distinct()\n",
    "df_regiao.printSchema()\n",
    "df_cred.printSchema()"
   ]
  },
  {
   "cell_type": "code",
   "execution_count": 11,
   "id": "9bf6e8c5",
   "metadata": {},
   "outputs": [
    {
     "name": "stdout",
     "output_type": "stream",
     "text": [
      "root\n",
      " |-- #ID_CMPT_MOVEL: integer (nullable = true)\n",
      " |-- CD_OPERADORA: integer (nullable = true)\n",
      " |-- NM_RAZAO_SOCIAL: string (nullable = true)\n",
      " |-- NR_CNPJ: long (nullable = true)\n",
      " |-- MODALIDADE_OPERADORA: string (nullable = true)\n",
      " |-- SG_UF: string (nullable = true)\n",
      " |-- CD_MUNICIPIO: integer (nullable = true)\n",
      " |-- NM_MUNICIPIO: string (nullable = true)\n",
      " |-- TP_SEXO: string (nullable = true)\n",
      " |-- DE_FAIXA_ETARIA: string (nullable = true)\n",
      " |-- DE_FAIXA_ETARIA_REAJ: string (nullable = true)\n",
      " |-- CD_PLANO: string (nullable = true)\n",
      " |-- TP_VIGENCIA_PLANO: string (nullable = true)\n",
      " |-- DE_CONTRATACAO_PLANO: string (nullable = true)\n",
      " |-- DE_SEGMENTACAO_PLANO: string (nullable = true)\n",
      " |-- DE_ABRG_GEOGRAFICA_PLANO: string (nullable = true)\n",
      " |-- COBERTURA_ASSIST_PLAN: string (nullable = true)\n",
      " |-- TIPO_VINCULO: string (nullable = true)\n",
      " |-- QT_BENEFICIARIO_ATIVO: integer (nullable = true)\n",
      " |-- QT_BENEFICIARIO_ADERIDO: integer (nullable = true)\n",
      " |-- QT_BENEFICIARIO_CANCELADO: integer (nullable = true)\n",
      " |-- DT_CARGA: string (nullable = true)\n",
      " |-- UF_Ben: string (nullable = false)\n",
      " |-- ANO: string (nullable = false)\n",
      "\n"
     ]
    }
   ],
   "source": [
    "df_BEN.printSchema()"
   ]
  },
  {
   "cell_type": "code",
   "execution_count": 12,
   "id": "7953863c",
   "metadata": {},
   "outputs": [
    {
     "name": "stdout",
     "output_type": "stream",
     "text": [
      "root\n",
      " |-- CD_OPERADORA: integer (nullable = true)\n",
      " |-- CD_MUNICIPIO: integer (nullable = true)\n",
      " |-- TP_SEXO: string (nullable = true)\n",
      " |-- DE_FAIXA_ETARIA_REAJ: string (nullable = true)\n",
      " |-- TIPO_VINCULO: string (nullable = true)\n",
      " |-- QT_BENEFICIARIO_ATIVO: integer (nullable = true)\n",
      "\n"
     ]
    }
   ],
   "source": [
    "df_benef=df_BEN.select(\"CD_OPERADORA\",\"CD_MUNICIPIO\",\"TP_SEXO\",\"DE_FAIXA_ETARIA_REAJ\",\n",
    "                       \"TIPO_VINCULO\",\"QT_BENEFICIARIO_ATIVO\") \\\n",
    "    .filter(df_BEN.COBERTURA_ASSIST_PLAN == \"M�dico-hospitalar\")\n",
    "\n",
    "df_benef.printSchema()"
   ]
  },
  {
   "cell_type": "markdown",
   "id": "e1c913d8",
   "metadata": {},
   "source": [
    "### Fechando a análise para eventos exclusivamente oncoclógicos"
   ]
  },
  {
   "cell_type": "code",
   "execution_count": 13,
   "id": "3eac5110",
   "metadata": {},
   "outputs": [
    {
     "name": "stdout",
     "output_type": "stream",
     "text": [
      "root\n",
      " |-- ID_EVENTO_ATENCAO_SAUDE_DET: long (nullable = true)\n",
      " |-- UF_PRESTADOR: string (nullable = true)\n",
      " |-- DT_REALIZACAO: timestamp (nullable = true)\n",
      " |-- CD_PROCEDIMENTO: string (nullable = true)\n",
      " |-- CD_TABELA_REFERENCIA: integer (nullable = true)\n",
      " |-- QT_ITEM_EVENTO_INFORMADO: string (nullable = true)\n",
      " |-- VL_ITEM_EVENTO_INFORMADO: string (nullable = true)\n",
      " |-- VL_ITEM_PAGO_FORNECEDOR: string (nullable = true)\n",
      " |-- IND_PACOTE: integer (nullable = true)\n",
      " |-- IND_TABELA_PROPRIA: integer (nullable = true)\n",
      " |-- UF_Det: string (nullable = false)\n",
      " |-- ANO: string (nullable = false)\n",
      " |-- ID_EVENTO_ATENCAO_SAUDE: long (nullable = true)\n",
      " |-- ID_PLANO: integer (nullable = true)\n",
      " |-- FAIXA_ETARIA: string (nullable = true)\n",
      " |-- SEXO: string (nullable = true)\n",
      " |-- CD_MUNICIPIO_BENEFICIARIO: integer (nullable = true)\n",
      " |-- PORTE: string (nullable = true)\n",
      " |-- CD_MODALIDADE: integer (nullable = true)\n",
      " |-- NM_MODALIDADE: string (nullable = true)\n",
      " |-- CD_MUNICIPIO_PRESTADOR: integer (nullable = true)\n",
      " |-- UF_PRESTADOR: string (nullable = true)\n",
      " |-- DT_REALIZACAO: timestamp (nullable = true)\n",
      " |-- CD_CARATER_ATENDIMENTO: integer (nullable = true)\n",
      " |-- TIPO_ATENDIMENTO: integer (nullable = true)\n",
      " |-- CD_MOTIVO_SAIDA: integer (nullable = true)\n",
      " |-- CBO: integer (nullable = true)\n",
      " |-- TIPO_CONSULTA: integer (nullable = true)\n",
      " |-- IND_ACIDENTE_DOENCA: integer (nullable = true)\n",
      " |-- LG_VALOR_PREESTABELECIDO: integer (nullable = true)\n",
      " |-- UF_Cons: string (nullable = true)\n",
      " |-- ANO: string (nullable = true)\n",
      "\n",
      "root\n",
      " |-- ID_EVENTO_ATENCAO_SAUDE_DET: long (nullable = true)\n",
      " |-- UF_PRESTADOR: string (nullable = true)\n",
      " |-- DT_REALIZACAO: timestamp (nullable = true)\n",
      " |-- CD_PROCEDIMENTO: string (nullable = true)\n",
      " |-- CD_TABELA_REFERENCIA: integer (nullable = true)\n",
      " |-- QT_ITEM_EVENTO_INFORMADO: string (nullable = true)\n",
      " |-- VL_ITEM_EVENTO_INFORMADO: string (nullable = true)\n",
      " |-- VL_ITEM_PAGO_FORNECEDOR: string (nullable = true)\n",
      " |-- IND_PACOTE: integer (nullable = true)\n",
      " |-- IND_TABELA_PROPRIA: integer (nullable = true)\n",
      " |-- UF_Det: string (nullable = false)\n",
      " |-- ANO: string (nullable = false)\n",
      " |-- ID_EVENTO_ATENCAO_SAUDE: long (nullable = true)\n",
      " |-- ID_PLANO: integer (nullable = true)\n",
      " |-- FAIXA_ETARIA: string (nullable = true)\n",
      " |-- SEXO: string (nullable = true)\n",
      " |-- CD_MUNICIPIO_BENEFICIARIO: integer (nullable = true)\n",
      " |-- PORTE: string (nullable = true)\n",
      " |-- CD_MODALIDADE: integer (nullable = true)\n",
      " |-- NM_MODALIDADE: string (nullable = true)\n",
      " |-- CD_MUNICIPIO_PRESTADOR: integer (nullable = true)\n",
      " |-- UF_PRESTADOR: string (nullable = true)\n",
      " |-- DT_REALIZACAO: timestamp (nullable = true)\n",
      " |-- CD_CARATER_ATENDIMENTO: integer (nullable = true)\n",
      " |-- TIPO_ATENDIMENTO: integer (nullable = true)\n",
      " |-- CD_MOTIVO_SAIDA: integer (nullable = true)\n",
      " |-- CBO: integer (nullable = true)\n",
      " |-- TIPO_CONSULTA: integer (nullable = true)\n",
      " |-- IND_ACIDENTE_DOENCA: integer (nullable = true)\n",
      " |-- LG_VALOR_PREESTABELECIDO: integer (nullable = true)\n",
      " |-- UF_Cons: string (nullable = true)\n",
      " |-- ANO: string (nullable = true)\n",
      " |-- codTUSS: integer (nullable = true)\n",
      " |-- Termo: string (nullable = true)\n",
      "\n"
     ]
    }
   ],
   "source": [
    "df_DET=df_DET.withColumnRenamed(\"ID_EVENTO_ATENCAO_SAUDE\",\"ID_EVENTO_ATENCAO_SAUDE_DET\")\n",
    "\n",
    "\n",
    "ref=[\"Quimioterapia\",\"Radioterapia\"]\n",
    "filtro_atend=df_tipo_atendimento.filter(df_tipo_atendimento.Termo.isin(ref))\n",
    "\n",
    "df_eventos = df_DET.join(df_CONS,df_DET.ID_EVENTO_ATENCAO_SAUDE_DET ==  df_CONS.ID_EVENTO_ATENCAO_SAUDE,\"left\")\n",
    "\n",
    "df_eventos.printSchema()\n",
    "\n",
    "#print((df_eventos.count(), len(df_eventos.columns)))\n",
    "\n",
    "df_eventos_onco = df_eventos.join(filtro_atend,df_eventos.TIPO_ATENDIMENTO ==  filtro_atend.codTUSS,\"inner\")\n",
    "\n",
    "df_eventos_onco.printSchema()\n",
    "#print((df_eventos_onco.count(), len(df_eventos_onco.columns)))"
   ]
  },
  {
   "cell_type": "code",
   "execution_count": 14,
   "id": "4030df8a",
   "metadata": {},
   "outputs": [
    {
     "name": "stdout",
     "output_type": "stream",
     "text": [
      "root\n",
      " |-- ID_EVENTO_ATENCAO_SAUDE_DET: long (nullable = true)\n",
      " |-- UF_PRESTADOR: string (nullable = true)\n",
      " |-- DT_REALIZACAO: timestamp (nullable = true)\n",
      " |-- CD_PROCEDIMENTO: string (nullable = true)\n",
      " |-- CD_TABELA_REFERENCIA: integer (nullable = true)\n",
      " |-- QT_ITEM_EVENTO_INFORMADO: string (nullable = true)\n",
      " |-- VL_ITEM_EVENTO_INFORMADO: string (nullable = true)\n",
      " |-- VL_ITEM_PAGO_FORNECEDOR: string (nullable = true)\n",
      " |-- IND_PACOTE: integer (nullable = true)\n",
      " |-- IND_TABELA_PROPRIA: integer (nullable = true)\n",
      " |-- UF_Det: string (nullable = false)\n",
      " |-- ANO: string (nullable = false)\n",
      " |-- ID_EVENTO_ATENCAO_SAUDE: long (nullable = true)\n",
      " |-- ID_PLANO: integer (nullable = true)\n",
      " |-- FAIXA_ETARIA: string (nullable = true)\n",
      " |-- SEXO: string (nullable = true)\n",
      " |-- CD_MUNICIPIO_BENEFICIARIO: integer (nullable = true)\n",
      " |-- PORTE: string (nullable = true)\n",
      " |-- CD_MODALIDADE: integer (nullable = true)\n",
      " |-- NM_MODALIDADE: string (nullable = true)\n",
      " |-- CD_MUNICIPIO_PRESTADOR: integer (nullable = true)\n",
      " |-- UF_PRESTADOR: string (nullable = true)\n",
      " |-- DT_REALIZACAO: timestamp (nullable = true)\n",
      " |-- CD_CARATER_ATENDIMENTO: integer (nullable = true)\n",
      " |-- TIPO_ATENDIMENTO: integer (nullable = true)\n",
      " |-- CD_MOTIVO_SAIDA: integer (nullable = true)\n",
      " |-- CBO: integer (nullable = true)\n",
      " |-- TIPO_CONSULTA: integer (nullable = true)\n",
      " |-- IND_ACIDENTE_DOENCA: integer (nullable = true)\n",
      " |-- LG_VALOR_PREESTABELECIDO: integer (nullable = true)\n",
      " |-- UF_Cons: string (nullable = true)\n",
      " |-- ANO: string (nullable = true)\n",
      " |-- codTUSS: integer (nullable = true)\n",
      " |-- Termo: string (nullable = true)\n",
      "\n"
     ]
    }
   ],
   "source": [
    "df_eventos_onco.printSchema()"
   ]
  },
  {
   "cell_type": "markdown",
   "id": "881e4f26",
   "metadata": {},
   "source": [
    "### Criação de indicadores e armazenamento em diretório"
   ]
  },
  {
   "cell_type": "code",
   "execution_count": 15,
   "id": "5c1f0e83",
   "metadata": {},
   "outputs": [
    {
     "name": "stderr",
     "output_type": "stream",
     "text": [
      "23/10/24 23:52:09 WARN RowBasedKeyValueBatch: Calling spill() on RowBasedKeyValueBatch. Will not spill but return 0.\n",
      "23/10/24 23:52:09 WARN RowBasedKeyValueBatch: Calling spill() on RowBasedKeyValueBatch. Will not spill but return 0.\n",
      "23/10/24 23:52:09 WARN RowBasedKeyValueBatch: Calling spill() on RowBasedKeyValueBatch. Will not spill but return 0.\n",
      "23/10/24 23:52:09 WARN RowBasedKeyValueBatch: Calling spill() on RowBasedKeyValueBatch. Will not spill but return 0.\n",
      "23/10/24 23:52:09 WARN RowBasedKeyValueBatch: Calling spill() on RowBasedKeyValueBatch. Will not spill but return 0.\n",
      "23/10/24 23:52:09 WARN RowBasedKeyValueBatch: Calling spill() on RowBasedKeyValueBatch. Will not spill but return 0.\n",
      "23/10/24 23:52:09 WARN RowBasedKeyValueBatch: Calling spill() on RowBasedKeyValueBatch. Will not spill but return 0.\n",
      "23/10/24 23:52:09 WARN RowBasedKeyValueBatch: Calling spill() on RowBasedKeyValueBatch. Will not spill but return 0.\n",
      "23/10/24 23:52:10 WARN RowBasedKeyValueBatch: Calling spill() on RowBasedKeyValueBatch. Will not spill but return 0.\n",
      "23/10/24 23:52:10 WARN RowBasedKeyValueBatch: Calling spill() on RowBasedKeyValueBatch. Will not spill but return 0.\n",
      "23/10/24 23:52:10 WARN RowBasedKeyValueBatch: Calling spill() on RowBasedKeyValueBatch. Will not spill but return 0.\n",
      "23/10/24 23:52:10 WARN RowBasedKeyValueBatch: Calling spill() on RowBasedKeyValueBatch. Will not spill but return 0.\n",
      "23/10/24 23:52:10 WARN RowBasedKeyValueBatch: Calling spill() on RowBasedKeyValueBatch. Will not spill but return 0.\n",
      "23/10/24 23:52:10 WARN RowBasedKeyValueBatch: Calling spill() on RowBasedKeyValueBatch. Will not spill but return 0.\n",
      "23/10/24 23:52:10 WARN RowBasedKeyValueBatch: Calling spill() on RowBasedKeyValueBatch. Will not spill but return 0.\n",
      "23/10/24 23:52:10 WARN RowBasedKeyValueBatch: Calling spill() on RowBasedKeyValueBatch. Will not spill but return 0.\n",
      "23/10/24 23:52:10 WARN RowBasedKeyValueBatch: Calling spill() on RowBasedKeyValueBatch. Will not spill but return 0.\n",
      "23/10/24 23:52:10 WARN RowBasedKeyValueBatch: Calling spill() on RowBasedKeyValueBatch. Will not spill but return 0.\n",
      "23/10/24 23:52:10 WARN RowBasedKeyValueBatch: Calling spill() on RowBasedKeyValueBatch. Will not spill but return 0.\n",
      "23/10/24 23:52:10 WARN RowBasedKeyValueBatch: Calling spill() on RowBasedKeyValueBatch. Will not spill but return 0.\n",
      "23/10/24 23:52:10 WARN RowBasedKeyValueBatch: Calling spill() on RowBasedKeyValueBatch. Will not spill but return 0.\n",
      "23/10/24 23:52:10 WARN RowBasedKeyValueBatch: Calling spill() on RowBasedKeyValueBatch. Will not spill but return 0.\n",
      "23/10/24 23:52:10 WARN RowBasedKeyValueBatch: Calling spill() on RowBasedKeyValueBatch. Will not spill but return 0.\n",
      "23/10/24 23:52:10 WARN RowBasedKeyValueBatch: Calling spill() on RowBasedKeyValueBatch. Will not spill but return 0.\n",
      "23/10/24 23:52:10 WARN RowBasedKeyValueBatch: Calling spill() on RowBasedKeyValueBatch. Will not spill but return 0.\n",
      "23/10/24 23:52:10 WARN RowBasedKeyValueBatch: Calling spill() on RowBasedKeyValueBatch. Will not spill but return 0.\n",
      "23/10/24 23:52:11 WARN RowBasedKeyValueBatch: Calling spill() on RowBasedKeyValueBatch. Will not spill but return 0.\n",
      "23/10/24 23:52:11 WARN RowBasedKeyValueBatch: Calling spill() on RowBasedKeyValueBatch. Will not spill but return 0.\n",
      "23/10/24 23:52:11 WARN RowBasedKeyValueBatch: Calling spill() on RowBasedKeyValueBatch. Will not spill but return 0.\n",
      "23/10/24 23:52:11 WARN RowBasedKeyValueBatch: Calling spill() on RowBasedKeyValueBatch. Will not spill but return 0.\n",
      "23/10/24 23:52:11 WARN RowBasedKeyValueBatch: Calling spill() on RowBasedKeyValueBatch. Will not spill but return 0.\n",
      "23/10/24 23:52:11 WARN RowBasedKeyValueBatch: Calling spill() on RowBasedKeyValueBatch. Will not spill but return 0.\n",
      "23/10/24 23:52:11 WARN RowBasedKeyValueBatch: Calling spill() on RowBasedKeyValueBatch. Will not spill but return 0.\n",
      "23/10/24 23:52:11 WARN RowBasedKeyValueBatch: Calling spill() on RowBasedKeyValueBatch. Will not spill but return 0.\n",
      "23/10/24 23:52:11 WARN RowBasedKeyValueBatch: Calling spill() on RowBasedKeyValueBatch. Will not spill but return 0.\n",
      "23/10/24 23:52:11 WARN RowBasedKeyValueBatch: Calling spill() on RowBasedKeyValueBatch. Will not spill but return 0.\n",
      "23/10/24 23:52:11 WARN RowBasedKeyValueBatch: Calling spill() on RowBasedKeyValueBatch. Will not spill but return 0.\n",
      "                                                                                \r"
     ]
    }
   ],
   "source": [
    "indicador_demo=df_eventos_onco.groupBy(\"PORTE\",\"SEXO\",\"FAIXA_ETARIA\",\"UF_Cons\") \\\n",
    "    .agg(sum(\"QT_ITEM_EVENTO_INFORMADO\").alias(\"soma_item\"), \\\n",
    "         sum(\"VL_ITEM_EVENTO_INFORMADO\").alias(\"soma_valor\"), \\\n",
    "         func.count(func.lit(1)).alias(\"contagem_evento\"))\n",
    "\n",
    "indicador_demo.write.format(\"csv\").option(\"header\",True)\\\n",
    "    .mode('overwrite').save(\"/Users/matheuscosta/Untitled Folder/indicadores/indicador_demo\")"
   ]
  },
  {
   "cell_type": "code",
   "execution_count": 16,
   "id": "eb75b684",
   "metadata": {},
   "outputs": [
    {
     "name": "stderr",
     "output_type": "stream",
     "text": [
      "23/10/24 23:52:49 WARN RowBasedKeyValueBatch: Calling spill() on RowBasedKeyValueBatch. Will not spill but return 0.\n",
      "23/10/24 23:52:49 WARN RowBasedKeyValueBatch: Calling spill() on RowBasedKeyValueBatch. Will not spill but return 0.\n",
      "23/10/24 23:52:49 WARN RowBasedKeyValueBatch: Calling spill() on RowBasedKeyValueBatch. Will not spill but return 0.\n",
      "23/10/24 23:52:49 WARN RowBasedKeyValueBatch: Calling spill() on RowBasedKeyValueBatch. Will not spill but return 0.\n",
      "23/10/24 23:52:49 WARN RowBasedKeyValueBatch: Calling spill() on RowBasedKeyValueBatch. Will not spill but return 0.\n",
      "23/10/24 23:52:49 WARN RowBasedKeyValueBatch: Calling spill() on RowBasedKeyValueBatch. Will not spill but return 0.\n",
      "23/10/24 23:52:49 WARN RowBasedKeyValueBatch: Calling spill() on RowBasedKeyValueBatch. Will not spill but return 0.\n",
      "23/10/24 23:52:49 WARN RowBasedKeyValueBatch: Calling spill() on RowBasedKeyValueBatch. Will not spill but return 0.\n",
      "23/10/24 23:52:50 WARN RowBasedKeyValueBatch: Calling spill() on RowBasedKeyValueBatch. Will not spill but return 0.\n",
      "23/10/24 23:52:50 WARN RowBasedKeyValueBatch: Calling spill() on RowBasedKeyValueBatch. Will not spill but return 0.\n",
      "23/10/24 23:52:50 WARN RowBasedKeyValueBatch: Calling spill() on RowBasedKeyValueBatch. Will not spill but return 0.\n",
      "23/10/24 23:52:50 WARN RowBasedKeyValueBatch: Calling spill() on RowBasedKeyValueBatch. Will not spill but return 0.\n",
      "23/10/24 23:52:50 WARN RowBasedKeyValueBatch: Calling spill() on RowBasedKeyValueBatch. Will not spill but return 0.\n",
      "23/10/24 23:52:50 WARN RowBasedKeyValueBatch: Calling spill() on RowBasedKeyValueBatch. Will not spill but return 0.\n",
      "23/10/24 23:52:50 WARN RowBasedKeyValueBatch: Calling spill() on RowBasedKeyValueBatch. Will not spill but return 0.\n",
      "23/10/24 23:52:50 WARN RowBasedKeyValueBatch: Calling spill() on RowBasedKeyValueBatch. Will not spill but return 0.\n",
      "23/10/24 23:52:50 WARN RowBasedKeyValueBatch: Calling spill() on RowBasedKeyValueBatch. Will not spill but return 0.\n",
      "23/10/24 23:52:50 WARN RowBasedKeyValueBatch: Calling spill() on RowBasedKeyValueBatch. Will not spill but return 0.\n",
      "23/10/24 23:52:50 WARN RowBasedKeyValueBatch: Calling spill() on RowBasedKeyValueBatch. Will not spill but return 0.\n",
      "23/10/24 23:52:50 WARN RowBasedKeyValueBatch: Calling spill() on RowBasedKeyValueBatch. Will not spill but return 0.\n",
      "23/10/24 23:52:50 WARN RowBasedKeyValueBatch: Calling spill() on RowBasedKeyValueBatch. Will not spill but return 0.\n",
      "23/10/24 23:52:50 WARN RowBasedKeyValueBatch: Calling spill() on RowBasedKeyValueBatch. Will not spill but return 0.\n",
      "23/10/24 23:52:50 WARN RowBasedKeyValueBatch: Calling spill() on RowBasedKeyValueBatch. Will not spill but return 0.\n",
      "23/10/24 23:52:50 WARN RowBasedKeyValueBatch: Calling spill() on RowBasedKeyValueBatch. Will not spill but return 0.\n",
      "23/10/24 23:52:50 WARN RowBasedKeyValueBatch: Calling spill() on RowBasedKeyValueBatch. Will not spill but return 0.\n",
      "23/10/24 23:52:50 WARN TaskMemoryManager: Failed to allocate a page (8388608 bytes), try again.\n",
      "23/10/24 23:52:50 WARN TaskMemoryManager: Failed to allocate a page (8388608 bytes), try again.\n",
      "23/10/24 23:52:50 WARN TaskMemoryManager: Failed to allocate a page (8388608 bytes), try again.\n",
      "23/10/24 23:52:50 WARN TaskMemoryManager: Failed to allocate a page (8388608 bytes), try again.\n",
      "23/10/24 23:52:50 WARN TaskMemoryManager: Failed to allocate a page (8388608 bytes), try again.\n",
      "23/10/24 23:52:50 WARN RowBasedKeyValueBatch: Calling spill() on RowBasedKeyValueBatch. Will not spill but return 0.\n",
      "23/10/24 23:52:51 WARN RowBasedKeyValueBatch: Calling spill() on RowBasedKeyValueBatch. Will not spill but return 0.\n",
      "23/10/24 23:52:51 WARN RowBasedKeyValueBatch: Calling spill() on RowBasedKeyValueBatch. Will not spill but return 0.\n"
     ]
    },
    {
     "name": "stdout",
     "output_type": "stream",
     "text": [
      "[148,599s][warning][gc,alloc] Executor task launch worker for task 2.0 in stage 103.0 (TID 441): Retried waiting for GCLocker too often allocating 1048578 words\n",
      "[148,604s][warning][gc,alloc] Executor task launch worker for task 2.0 in stage 103.0 (TID 441): Retried waiting for GCLocker too often allocating 1048578 words\n",
      "[148,614s][warning][gc,alloc] Executor task launch worker for task 4.0 in stage 103.0 (TID 443): Retried waiting for GCLocker too often allocating 1048578 words\n",
      "[148,626s][warning][gc,alloc] Executor task launch worker for task 4.0 in stage 103.0 (TID 443): Retried waiting for GCLocker too often allocating 1048578 words\n",
      "[148,631s][warning][gc,alloc] Executor task launch worker for task 5.0 in stage 103.0 (TID 444): Retried waiting for GCLocker too often allocating 1048578 words\n"
     ]
    },
    {
     "name": "stderr",
     "output_type": "stream",
     "text": [
      "23/10/24 23:52:51 WARN RowBasedKeyValueBatch: Calling spill() on RowBasedKeyValueBatch. Will not spill but return 0.\n",
      "23/10/24 23:52:51 WARN RowBasedKeyValueBatch: Calling spill() on RowBasedKeyValueBatch. Will not spill but return 0.\n",
      "23/10/24 23:52:51 WARN RowBasedKeyValueBatch: Calling spill() on RowBasedKeyValueBatch. Will not spill but return 0.\n",
      "23/10/24 23:52:51 WARN RowBasedKeyValueBatch: Calling spill() on RowBasedKeyValueBatch. Will not spill but return 0.\n",
      "23/10/24 23:52:51 WARN RowBasedKeyValueBatch: Calling spill() on RowBasedKeyValueBatch. Will not spill but return 0.\n",
      "23/10/24 23:52:51 WARN RowBasedKeyValueBatch: Calling spill() on RowBasedKeyValueBatch. Will not spill but return 0.\n",
      "23/10/24 23:52:51 WARN RowBasedKeyValueBatch: Calling spill() on RowBasedKeyValueBatch. Will not spill but return 0.\n",
      "23/10/24 23:52:51 WARN RowBasedKeyValueBatch: Calling spill() on RowBasedKeyValueBatch. Will not spill but return 0.\n",
      "                                                                                \r"
     ]
    }
   ],
   "source": [
    "indicador_proc=df_eventos_onco.groupBy(\"CD_PROCEDIMENTO\",\"SEXO\",\"FAIXA_ETARIA\",\"UF_Cons\") \\\n",
    "    .agg(sum(\"QT_ITEM_EVENTO_INFORMADO\").alias(\"soma_item\"), \\\n",
    "         sum(\"VL_ITEM_EVENTO_INFORMADO\").alias(\"soma_valor\"), \\\n",
    "         func.count(func.lit(1)).alias(\"contagem_evento\"))\n",
    "\n",
    "\n",
    "windowSpec  = Window.partitionBy(\"UF_Cons\").orderBy(col(\"soma_valor\").desc())\n",
    "\n",
    "\n",
    "indicador_proc = indicador_proc.select('*', rank().over(windowSpec).alias('rank')) \\\n",
    "    .filter(col('rank') <= 10)\n",
    "\n",
    "\n",
    "indicador_proc.write.format(\"csv\").option(\"header\",True)\\\n",
    "    .mode('overwrite').save(\"/Users/matheuscosta/Untitled Folder/indicadores/indicador_proc\")"
   ]
  },
  {
   "cell_type": "code",
   "execution_count": 17,
   "id": "f9c8e743",
   "metadata": {},
   "outputs": [
    {
     "name": "stderr",
     "output_type": "stream",
     "text": [
      "23/10/24 23:53:35 WARN RowBasedKeyValueBatch: Calling spill() on RowBasedKeyValueBatch. Will not spill but return 0.\n",
      "23/10/24 23:53:35 WARN RowBasedKeyValueBatch: Calling spill() on RowBasedKeyValueBatch. Will not spill but return 0.\n",
      "23/10/24 23:53:35 WARN RowBasedKeyValueBatch: Calling spill() on RowBasedKeyValueBatch. Will not spill but return 0.\n",
      "23/10/24 23:53:35 WARN RowBasedKeyValueBatch: Calling spill() on RowBasedKeyValueBatch. Will not spill but return 0.\n",
      "23/10/24 23:53:35 WARN RowBasedKeyValueBatch: Calling spill() on RowBasedKeyValueBatch. Will not spill but return 0.\n",
      "23/10/24 23:53:35 WARN RowBasedKeyValueBatch: Calling spill() on RowBasedKeyValueBatch. Will not spill but return 0.\n",
      "23/10/24 23:53:35 WARN RowBasedKeyValueBatch: Calling spill() on RowBasedKeyValueBatch. Will not spill but return 0.\n",
      "23/10/24 23:53:35 WARN RowBasedKeyValueBatch: Calling spill() on RowBasedKeyValueBatch. Will not spill but return 0.\n",
      "23/10/24 23:53:36 WARN RowBasedKeyValueBatch: Calling spill() on RowBasedKeyValueBatch. Will not spill but return 0.\n",
      "23/10/24 23:53:36 WARN RowBasedKeyValueBatch: Calling spill() on RowBasedKeyValueBatch. Will not spill but return 0.\n",
      "23/10/24 23:53:36 WARN RowBasedKeyValueBatch: Calling spill() on RowBasedKeyValueBatch. Will not spill but return 0.\n",
      "23/10/24 23:53:36 WARN RowBasedKeyValueBatch: Calling spill() on RowBasedKeyValueBatch. Will not spill but return 0.\n",
      "23/10/24 23:53:36 WARN RowBasedKeyValueBatch: Calling spill() on RowBasedKeyValueBatch. Will not spill but return 0.\n",
      "23/10/24 23:53:36 WARN RowBasedKeyValueBatch: Calling spill() on RowBasedKeyValueBatch. Will not spill but return 0.\n",
      "23/10/24 23:53:36 WARN RowBasedKeyValueBatch: Calling spill() on RowBasedKeyValueBatch. Will not spill but return 0.\n",
      "23/10/24 23:53:36 WARN RowBasedKeyValueBatch: Calling spill() on RowBasedKeyValueBatch. Will not spill but return 0.\n",
      "23/10/24 23:53:36 WARN RowBasedKeyValueBatch: Calling spill() on RowBasedKeyValueBatch. Will not spill but return 0.\n",
      "23/10/24 23:53:36 WARN RowBasedKeyValueBatch: Calling spill() on RowBasedKeyValueBatch. Will not spill but return 0.\n",
      "23/10/24 23:53:36 WARN RowBasedKeyValueBatch: Calling spill() on RowBasedKeyValueBatch. Will not spill but return 0.\n",
      "23/10/24 23:53:36 WARN RowBasedKeyValueBatch: Calling spill() on RowBasedKeyValueBatch. Will not spill but return 0.\n",
      "23/10/24 23:53:36 WARN RowBasedKeyValueBatch: Calling spill() on RowBasedKeyValueBatch. Will not spill but return 0.\n",
      "23/10/24 23:53:36 WARN RowBasedKeyValueBatch: Calling spill() on RowBasedKeyValueBatch. Will not spill but return 0.\n",
      "23/10/24 23:53:36 WARN RowBasedKeyValueBatch: Calling spill() on RowBasedKeyValueBatch. Will not spill but return 0.\n",
      "23/10/24 23:53:36 WARN RowBasedKeyValueBatch: Calling spill() on RowBasedKeyValueBatch. Will not spill but return 0.\n",
      "23/10/24 23:53:36 WARN RowBasedKeyValueBatch: Calling spill() on RowBasedKeyValueBatch. Will not spill but return 0.\n",
      "23/10/24 23:53:36 WARN RowBasedKeyValueBatch: Calling spill() on RowBasedKeyValueBatch. Will not spill but return 0.\n",
      "23/10/24 23:53:36 WARN RowBasedKeyValueBatch: Calling spill() on RowBasedKeyValueBatch. Will not spill but return 0.\n",
      "23/10/24 23:53:37 WARN RowBasedKeyValueBatch: Calling spill() on RowBasedKeyValueBatch. Will not spill but return 0.\n",
      "23/10/24 23:53:37 WARN RowBasedKeyValueBatch: Calling spill() on RowBasedKeyValueBatch. Will not spill but return 0.\n",
      "23/10/24 23:53:37 WARN RowBasedKeyValueBatch: Calling spill() on RowBasedKeyValueBatch. Will not spill but return 0.\n",
      "23/10/24 23:53:37 WARN RowBasedKeyValueBatch: Calling spill() on RowBasedKeyValueBatch. Will not spill but return 0.\n",
      "23/10/24 23:53:37 WARN RowBasedKeyValueBatch: Calling spill() on RowBasedKeyValueBatch. Will not spill but return 0.\n",
      "                                                                                \r"
     ]
    }
   ],
   "source": [
    "indicador_geo=df_eventos_onco.groupBy(\"CD_MUNICIPIO_BENEFICIARIO\",\"UF_Cons\") \\\n",
    "    .agg(sum(\"QT_ITEM_EVENTO_INFORMADO\").alias(\"soma_item\"), \\\n",
    "         sum(\"VL_ITEM_EVENTO_INFORMADO\").alias(\"soma_valor\"), \\\n",
    "         func.count(func.lit(1)).alias(\"contagem_evento\"))\\\n",
    "    .join(df_regiao,\n",
    "          df_eventos_onco.CD_MUNICIPIO_BENEFICIARIO ==  df_regiao.CD_MUNICIPIO,\"right\")\n",
    "\n",
    "indicador_geo.write.format(\"csv\").option(\"header\",True)\\\n",
    "    .mode('overwrite').save(\"/Users/matheuscosta/Untitled Folder/indicadores/indicador_geo\")"
   ]
  },
  {
   "cell_type": "code",
   "execution_count": 18,
   "id": "cba9bbdf",
   "metadata": {},
   "outputs": [
    {
     "name": "stderr",
     "output_type": "stream",
     "text": [
      "23/10/24 23:53:51 WARN RowBasedKeyValueBatch: Calling spill() on RowBasedKeyValueBatch. Will not spill but return 0.\n",
      "23/10/24 23:53:51 WARN RowBasedKeyValueBatch: Calling spill() on RowBasedKeyValueBatch. Will not spill but return 0.\n",
      "23/10/24 23:53:51 WARN RowBasedKeyValueBatch: Calling spill() on RowBasedKeyValueBatch. Will not spill but return 0.\n",
      "23/10/24 23:53:51 WARN RowBasedKeyValueBatch: Calling spill() on RowBasedKeyValueBatch. Will not spill but return 0.\n",
      "23/10/24 23:53:51 WARN RowBasedKeyValueBatch: Calling spill() on RowBasedKeyValueBatch. Will not spill but return 0.\n",
      "23/10/24 23:53:51 WARN RowBasedKeyValueBatch: Calling spill() on RowBasedKeyValueBatch. Will not spill but return 0.\n",
      "23/10/24 23:53:51 WARN RowBasedKeyValueBatch: Calling spill() on RowBasedKeyValueBatch. Will not spill but return 0.\n",
      "23/10/24 23:53:51 WARN RowBasedKeyValueBatch: Calling spill() on RowBasedKeyValueBatch. Will not spill but return 0.\n",
      "23/10/24 23:53:51 WARN RowBasedKeyValueBatch: Calling spill() on RowBasedKeyValueBatch. Will not spill but return 0.\n",
      "23/10/24 23:53:51 WARN RowBasedKeyValueBatch: Calling spill() on RowBasedKeyValueBatch. Will not spill but return 0.\n",
      "23/10/24 23:53:51 WARN RowBasedKeyValueBatch: Calling spill() on RowBasedKeyValueBatch. Will not spill but return 0.\n",
      "23/10/24 23:53:51 WARN RowBasedKeyValueBatch: Calling spill() on RowBasedKeyValueBatch. Will not spill but return 0.\n",
      "23/10/24 23:53:51 WARN RowBasedKeyValueBatch: Calling spill() on RowBasedKeyValueBatch. Will not spill but return 0.\n",
      "23/10/24 23:53:52 WARN RowBasedKeyValueBatch: Calling spill() on RowBasedKeyValueBatch. Will not spill but return 0.\n",
      "23/10/24 23:53:52 WARN RowBasedKeyValueBatch: Calling spill() on RowBasedKeyValueBatch. Will not spill but return 0.\n",
      "23/10/24 23:53:52 WARN RowBasedKeyValueBatch: Calling spill() on RowBasedKeyValueBatch. Will not spill but return 0.\n",
      "23/10/24 23:53:52 WARN RowBasedKeyValueBatch: Calling spill() on RowBasedKeyValueBatch. Will not spill but return 0.\n",
      "23/10/24 23:53:52 WARN RowBasedKeyValueBatch: Calling spill() on RowBasedKeyValueBatch. Will not spill but return 0.\n",
      "23/10/24 23:53:52 WARN RowBasedKeyValueBatch: Calling spill() on RowBasedKeyValueBatch. Will not spill but return 0.\n",
      "23/10/24 23:53:52 WARN RowBasedKeyValueBatch: Calling spill() on RowBasedKeyValueBatch. Will not spill but return 0.\n",
      "23/10/24 23:53:52 WARN RowBasedKeyValueBatch: Calling spill() on RowBasedKeyValueBatch. Will not spill but return 0.\n",
      "23/10/24 23:53:52 WARN RowBasedKeyValueBatch: Calling spill() on RowBasedKeyValueBatch. Will not spill but return 0.\n",
      "23/10/24 23:53:52 WARN RowBasedKeyValueBatch: Calling spill() on RowBasedKeyValueBatch. Will not spill but return 0.\n",
      "23/10/24 23:53:52 WARN RowBasedKeyValueBatch: Calling spill() on RowBasedKeyValueBatch. Will not spill but return 0.\n",
      "23/10/24 23:53:52 WARN RowBasedKeyValueBatch: Calling spill() on RowBasedKeyValueBatch. Will not spill but return 0.\n",
      "23/10/24 23:53:53 WARN RowBasedKeyValueBatch: Calling spill() on RowBasedKeyValueBatch. Will not spill but return 0.\n",
      "23/10/24 23:53:53 WARN RowBasedKeyValueBatch: Calling spill() on RowBasedKeyValueBatch. Will not spill but return 0.\n",
      "                                                                                \r"
     ]
    }
   ],
   "source": [
    "df_cred1 = df_cred.withColumnRenamed(\"CD_MUNICIPIO\",\"CD_MUNICIPIO1\")\n",
    "indicador_cred=df_cred1.groupBy(\"CD_MUNICIPIO1\",\"DE_CLAS_ESTB_SAUDE\") \\\n",
    "    .agg(func.count(func.lit(1)).alias(\"contagem_classe\"))\\\n",
    "    .join(df_regiao,\n",
    "          df_cred1.CD_MUNICIPIO1 ==  df_regiao.CD_MUNICIPIO,\"right\")\n",
    "\n",
    "indicador_cred.write.format(\"csv\").option(\"header\",True)\\\n",
    "    .mode('overwrite').save(\"/Users/matheuscosta/Untitled Folder/indicadores/indicador_cred\")"
   ]
  },
  {
   "cell_type": "code",
   "execution_count": 19,
   "id": "a501d15e",
   "metadata": {},
   "outputs": [
    {
     "name": "stderr",
     "output_type": "stream",
     "text": [
      "                                                                                \r"
     ]
    }
   ],
   "source": [
    "df_cred1 = df_cred.withColumnRenamed(\"CD_MUNICIPIO\",\"CD_MUNICIPIO1\")\n",
    "operadora=df_cred1.select(\"NM_OPERADORA\",\"CD_MUNICIPIO1\").distinct()\n",
    "operadora_uf = operadora.join(df_regiao, operadora.CD_MUNICIPIO1 == df_regiao.CD_MUNICIPIO,\"right\")\n",
    "\n",
    "\n",
    "operadora_uf.write.format(\"csv\").option(\"header\",True)\\\n",
    "    .mode('overwrite').save(\"/Users/matheuscosta/Untitled Folder/indicadores/operadora_uf\")\n"
   ]
  },
  {
   "cell_type": "code",
   "execution_count": 22,
   "id": "082a5105",
   "metadata": {},
   "outputs": [
    {
     "data": {
      "text/plain": [
       "Row(CD_OPERADORA=339679, CD_MUNICIPIO=521880, TP_SEXO='F', DE_FAIXA_ETARIA_REAJ='29 a 33 anos', TIPO_VINCULO='TITULAR', QT_BENEFICIARIO_ATIVO=3)"
      ]
     },
     "execution_count": 22,
     "metadata": {},
     "output_type": "execute_result"
    }
   ],
   "source": [
    "df_benef.head()"
   ]
  },
  {
   "cell_type": "code",
   "execution_count": 26,
   "id": "d4cf36e6",
   "metadata": {},
   "outputs": [
    {
     "name": "stderr",
     "output_type": "stream",
     "text": [
      "23/10/25 02:05:18 WARN RowBasedKeyValueBatch: Calling spill() on RowBasedKeyValueBatch. Will not spill but return 0.\n",
      "23/10/25 02:05:18 WARN RowBasedKeyValueBatch: Calling spill() on RowBasedKeyValueBatch. Will not spill but return 0.\n",
      "23/10/25 02:05:18 WARN RowBasedKeyValueBatch: Calling spill() on RowBasedKeyValueBatch. Will not spill but return 0.\n",
      "23/10/25 02:05:18 WARN RowBasedKeyValueBatch: Calling spill() on RowBasedKeyValueBatch. Will not spill but return 0.\n",
      "23/10/25 02:05:18 WARN RowBasedKeyValueBatch: Calling spill() on RowBasedKeyValueBatch. Will not spill but return 0.\n",
      "23/10/25 02:05:18 WARN RowBasedKeyValueBatch: Calling spill() on RowBasedKeyValueBatch. Will not spill but return 0.\n",
      "23/10/25 02:05:18 WARN RowBasedKeyValueBatch: Calling spill() on RowBasedKeyValueBatch. Will not spill but return 0.\n",
      "23/10/25 02:05:18 WARN RowBasedKeyValueBatch: Calling spill() on RowBasedKeyValueBatch. Will not spill but return 0.\n",
      "23/10/25 02:05:18 WARN RowBasedKeyValueBatch: Calling spill() on RowBasedKeyValueBatch. Will not spill but return 0.\n",
      "23/10/25 02:05:18 WARN RowBasedKeyValueBatch: Calling spill() on RowBasedKeyValueBatch. Will not spill but return 0.\n",
      "23/10/25 02:05:18 WARN RowBasedKeyValueBatch: Calling spill() on RowBasedKeyValueBatch. Will not spill but return 0.\n",
      "23/10/25 02:05:18 WARN RowBasedKeyValueBatch: Calling spill() on RowBasedKeyValueBatch. Will not spill but return 0.\n",
      "23/10/25 02:05:18 WARN RowBasedKeyValueBatch: Calling spill() on RowBasedKeyValueBatch. Will not spill but return 0.\n",
      "23/10/25 02:05:18 WARN RowBasedKeyValueBatch: Calling spill() on RowBasedKeyValueBatch. Will not spill but return 0.\n",
      "23/10/25 02:05:18 WARN RowBasedKeyValueBatch: Calling spill() on RowBasedKeyValueBatch. Will not spill but return 0.\n",
      "23/10/25 02:05:18 WARN RowBasedKeyValueBatch: Calling spill() on RowBasedKeyValueBatch. Will not spill but return 0.\n",
      "23/10/25 02:05:19 WARN RowBasedKeyValueBatch: Calling spill() on RowBasedKeyValueBatch. Will not spill but return 0.\n",
      "23/10/25 02:05:19 WARN RowBasedKeyValueBatch: Calling spill() on RowBasedKeyValueBatch. Will not spill but return 0.\n",
      "23/10/25 02:05:19 WARN RowBasedKeyValueBatch: Calling spill() on RowBasedKeyValueBatch. Will not spill but return 0.\n",
      "23/10/25 02:05:19 WARN RowBasedKeyValueBatch: Calling spill() on RowBasedKeyValueBatch. Will not spill but return 0.\n",
      "23/10/25 02:05:19 WARN RowBasedKeyValueBatch: Calling spill() on RowBasedKeyValueBatch. Will not spill but return 0.\n",
      "23/10/25 02:05:19 WARN RowBasedKeyValueBatch: Calling spill() on RowBasedKeyValueBatch. Will not spill but return 0.\n",
      "23/10/25 02:05:19 WARN RowBasedKeyValueBatch: Calling spill() on RowBasedKeyValueBatch. Will not spill but return 0.\n",
      "23/10/25 02:05:19 WARN RowBasedKeyValueBatch: Calling spill() on RowBasedKeyValueBatch. Will not spill but return 0.\n",
      "23/10/25 02:05:19 WARN RowBasedKeyValueBatch: Calling spill() on RowBasedKeyValueBatch. Will not spill but return 0.\n",
      "23/10/25 02:05:19 WARN RowBasedKeyValueBatch: Calling spill() on RowBasedKeyValueBatch. Will not spill but return 0.\n",
      "23/10/25 02:05:19 WARN RowBasedKeyValueBatch: Calling spill() on RowBasedKeyValueBatch. Will not spill but return 0.\n",
      "23/10/25 02:05:19 WARN RowBasedKeyValueBatch: Calling spill() on RowBasedKeyValueBatch. Will not spill but return 0.\n",
      "23/10/25 02:05:19 WARN RowBasedKeyValueBatch: Calling spill() on RowBasedKeyValueBatch. Will not spill but return 0.\n",
      "23/10/25 02:05:19 WARN RowBasedKeyValueBatch: Calling spill() on RowBasedKeyValueBatch. Will not spill but return 0.\n",
      "23/10/25 02:05:19 WARN RowBasedKeyValueBatch: Calling spill() on RowBasedKeyValueBatch. Will not spill but return 0.\n",
      "23/10/25 02:05:19 WARN RowBasedKeyValueBatch: Calling spill() on RowBasedKeyValueBatch. Will not spill but return 0.\n",
      "                                                                                \r"
     ]
    }
   ],
   "source": [
    "df_benef1 = df_benef.withColumnRenamed(\"CD_MUNICIPIO\",\"CD_MUNICIPIO1\")\n",
    "indicador_benef=df_benef1.groupBy(\"TP_SEXO\",\"CD_MUNICIPIO1\",\"DE_FAIXA_ETARIA_REAJ\") \\\n",
    "    .agg(sum(\"QT_BENEFICIARIO_ATIVO\").alias(\"soma_benef\"))\\\n",
    "    .join(df_regiao,\n",
    "          df_benef1.CD_MUNICIPIO1 ==  df_regiao.CD_MUNICIPIO,\"right\")\n",
    "\n",
    "\n",
    "indicador_benef.write.format(\"csv\").option(\"header\",True)\\\n",
    "    .mode('overwrite').save(\"/Users/matheuscosta/Untitled Folder/indicadores/indicador_benef\")\n"
   ]
  },
  {
   "cell_type": "code",
   "execution_count": 30,
   "id": "07a39c11",
   "metadata": {},
   "outputs": [],
   "source": [
    "df_tuss_proc.toPandas().to_csv(\"/Users/matheuscosta/Untitled Folder/indicadores/tuss.csv\", sep=',')"
   ]
  }
 ],
 "metadata": {
  "kernelspec": {
   "display_name": "Python 3 (ipykernel)",
   "language": "python",
   "name": "python3"
  },
  "language_info": {
   "codemirror_mode": {
    "name": "ipython",
    "version": 3
   },
   "file_extension": ".py",
   "mimetype": "text/x-python",
   "name": "python",
   "nbconvert_exporter": "python",
   "pygments_lexer": "ipython3",
   "version": "3.11.5"
  }
 },
 "nbformat": 4,
 "nbformat_minor": 5
}
